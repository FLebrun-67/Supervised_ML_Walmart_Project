{
 "cells": [
  {
   "cell_type": "markdown",
   "metadata": {},
   "source": [
    "<img src=\"https://www.bestdesigns.co/uploads/inspiration_images/4350/990__1511457498_404_walmart.png\" alt=\"WALMART LOGO\" />\n",
    "\n",
    "# Walmart : predict weekly sales\n",
    "\n",
    "## Company's Description 📇\n",
    "\n",
    "Walmart Inc. is an American multinational retail corporation that operates a chain of hypermarkets, discount department stores, and grocery stores from the United States, headquartered in Bentonville, Arkansas. The company was founded by Sam Walton in 1962.\n",
    "\n",
    "## Project 🚧\n",
    "\n",
    "Walmart's marketing service has asked you to build a machine learning model able to estimate the weekly sales in their stores, with the best precision possible on the predictions made. Such a model would help them understand better how the sales are influenced by economic indicators, and might be used to plan future marketing campaigns.\n",
    "\n",
    "## Goals 🎯\n",
    "\n",
    "The project can be divided into three steps:\n",
    "\n",
    "- Part 1 : make an EDA and all the necessary preprocessings to prepare data for machine learning\n",
    "- Part 2 : train a **linear regression model** (baseline)\n",
    "- Part 3 : avoid overfitting by training a **regularized regression model**\n",
    "\n",
    "## Scope of this project 🖼️\n",
    "\n",
    "For this project, you'll work with a dataset that contains information about weekly sales achieved by different Walmart stores, and other variables such as the unemployment rate or the fuel price, that might be useful for predicting the amount of sales. The dataset has been taken from a Kaggle competition, but we made some changes compared to the original data. Please make sure that you're using **our** custom dataset (available on JULIE). 🤓"
   ]
  },
  {
   "cell_type": "markdown",
   "metadata": {},
   "source": [
    "## Deliverable 📬\n",
    "\n",
    "To complete this project, your team should: \n",
    "\n",
    "- Create some visualizations\n",
    "- Train at least one **linear regression model** on the dataset, that predicts the amount of weekly sales as a function of the other variables\n",
    "- Assess the performances of the model by using a metric that is relevant for regression problems\n",
    "- Interpret the coefficients of the model to identify what features are important for the prediction\n",
    "- Train at least one model with **regularization (Lasso or Ridge)** to reduce overfitting\n"
   ]
  },
  {
   "cell_type": "markdown",
   "metadata": {},
   "source": [
    "## Helpers 🦮\n",
    "\n",
    "To help you achieve this project, here are a few tips that should help you: \n",
    "\n",
    "### Part 1 : EDA and data preprocessing\n",
    "\n",
    "Start your project by exploring your dataset : create figures, compute some statistics etc...\n",
    "\n",
    "Then, you'll have to make some preprocessing on the dataset. You can follow the guidelines from the *preprocessing template*. There will also be some specific transformations to be planned on this dataset, for example on the *Date* column that can't be included as it is in the model. Below are some hints that might help you 🤓\n",
    "\n",
    " #### Preprocessing to be planned with pandas\n",
    "\n",
    " **Drop lines where target values are missing :**\n",
    " - Here, the target variable (Y) corresponds to the column *Weekly_Sales*. One can see above that there are some missing values in this column.\n",
    " - We never use imputation techniques on the target : it might create some bias in the predictions !\n",
    " - Then, we will just drop the lines in the dataset for which the value in *Weekly_Sales* is missing.\n",
    " \n",
    "**Create usable features from the *Date* column :**\n",
    "The *Date* column cannot be included as it is in the model. Either you can drop this column, or you will create new columns that contain the following numeric features : \n",
    "- *year*\n",
    "- *month*\n",
    "- *day*\n",
    "- *day of week*\n",
    "\n",
    "**Drop lines containing invalid values or outliers :**\n",
    "In this project, will be considered as outliers all the numeric features that don't fall within the range : $[\\bar{X} - 3\\sigma, \\bar{X} + 3\\sigma]$. This concerns the columns : *Temperature*, *Fuel_price*, *CPI* and *Unemployment*\n",
    " \n",
    "\n",
    "\n",
    "**Target variable/target (Y) that we will try to predict, to separate from the others** : *Weekly_Sales*\n",
    "\n",
    " **------------**\n",
    "\n",
    " #### Preprocessings to be planned with scikit-learn\n",
    "\n",
    " **Explanatory variables (X)**\n",
    "We need to identify which columns contain categorical variables and which columns contain numerical variables, as they will be treated differently.\n",
    "\n",
    " - Categorical variables : Store, Holiday_Flag\n",
    " - Numerical variables : Temperature, Fuel_Price, CPI, Unemployment, Year, Month, Day, DayOfWeek\n",
    "\n",
    "### Part 2 : Baseline model (linear regression)\n",
    "Once you've trained a first model, don't forget to assess its performances on the train and test sets. Are you satisfied with the results ?\n",
    "Besides, it would be interesting to analyze the values of the model's coefficients to know what features are important for the prediction. To do so, the `.coef_` attribute of scikit-learn's LinearRegression class might be useful. Please refer to the following link for more information 😉 https://scikit-learn.org/stable/modules/generated/sklearn.linear_model.LinearRegression.html\n",
    "\n",
    "### Part 3 : Fight overfitting\n",
    "In this last part, you'll have to train a **regularized linear regression model**. You'll find below some useful classes in scikit-learn's documentation :\n",
    "- https://scikit-learn.org/stable/modules/generated/sklearn.linear_model.Ridge.html#sklearn.linear_model.Ridge\n",
    "- https://scikit-learn.org/stable/modules/generated/sklearn.linear_model.Lasso.html#sklearn.linear_model.Lasso\n",
    "\n",
    "**Bonus question**\n",
    "\n",
    "In regularized regression models, there's a hyperparameter called *the regularization strength* that can be fine-tuned to get the best generalized predictions on a given dataset. This fine-tuning can be done thanks to scikit-learn's GridSearchCV class : https://scikit-learn.org/stable/modules/generated/sklearn.model_selection.GridSearchCV.html\n",
    "\n",
    "Also, you'll find here some examples of how to use GridSearchCV together with Ridge or Lasso models : https://alfurka.github.io/2018-11-18-grid-search/"
   ]
  },
  {
   "cell_type": "markdown",
   "metadata": {},
   "source": [
    "**CLEANING**"
   ]
  },
  {
   "cell_type": "code",
   "execution_count": 2,
   "metadata": {},
   "outputs": [],
   "source": [
    "import pandas as pd\n",
    "import numpy as np\n",
    "\n",
    "import plotly.express as px\n",
    "import plotly.graph_objects as go\n",
    "import plotly.io as pio\n",
    "import matplotlib.pyplot as plt"
   ]
  },
  {
   "cell_type": "code",
   "execution_count": 3,
   "metadata": {},
   "outputs": [],
   "source": [
    "df = pd.read_csv('Walmart_Store_sales (1).csv')"
   ]
  },
  {
   "cell_type": "code",
   "execution_count": 4,
   "metadata": {},
   "outputs": [
    {
     "data": {
      "text/html": [
       "<div>\n",
       "<style scoped>\n",
       "    .dataframe tbody tr th:only-of-type {\n",
       "        vertical-align: middle;\n",
       "    }\n",
       "\n",
       "    .dataframe tbody tr th {\n",
       "        vertical-align: top;\n",
       "    }\n",
       "\n",
       "    .dataframe thead th {\n",
       "        text-align: right;\n",
       "    }\n",
       "</style>\n",
       "<table border=\"1\" class=\"dataframe\">\n",
       "  <thead>\n",
       "    <tr style=\"text-align: right;\">\n",
       "      <th></th>\n",
       "      <th>Store</th>\n",
       "      <th>Date</th>\n",
       "      <th>Weekly_Sales</th>\n",
       "      <th>Holiday_Flag</th>\n",
       "      <th>Temperature</th>\n",
       "      <th>Fuel_Price</th>\n",
       "      <th>CPI</th>\n",
       "      <th>Unemployment</th>\n",
       "    </tr>\n",
       "  </thead>\n",
       "  <tbody>\n",
       "    <tr>\n",
       "      <th>0</th>\n",
       "      <td>6.0</td>\n",
       "      <td>18-02-2011</td>\n",
       "      <td>1572117.54</td>\n",
       "      <td>NaN</td>\n",
       "      <td>59.61</td>\n",
       "      <td>3.045</td>\n",
       "      <td>214.777523</td>\n",
       "      <td>6.858</td>\n",
       "    </tr>\n",
       "    <tr>\n",
       "      <th>1</th>\n",
       "      <td>13.0</td>\n",
       "      <td>25-03-2011</td>\n",
       "      <td>1807545.43</td>\n",
       "      <td>0.0</td>\n",
       "      <td>42.38</td>\n",
       "      <td>3.435</td>\n",
       "      <td>128.616064</td>\n",
       "      <td>7.470</td>\n",
       "    </tr>\n",
       "    <tr>\n",
       "      <th>2</th>\n",
       "      <td>17.0</td>\n",
       "      <td>27-07-2012</td>\n",
       "      <td>NaN</td>\n",
       "      <td>0.0</td>\n",
       "      <td>NaN</td>\n",
       "      <td>NaN</td>\n",
       "      <td>130.719581</td>\n",
       "      <td>5.936</td>\n",
       "    </tr>\n",
       "    <tr>\n",
       "      <th>3</th>\n",
       "      <td>11.0</td>\n",
       "      <td>NaN</td>\n",
       "      <td>1244390.03</td>\n",
       "      <td>0.0</td>\n",
       "      <td>84.57</td>\n",
       "      <td>NaN</td>\n",
       "      <td>214.556497</td>\n",
       "      <td>7.346</td>\n",
       "    </tr>\n",
       "    <tr>\n",
       "      <th>4</th>\n",
       "      <td>6.0</td>\n",
       "      <td>28-05-2010</td>\n",
       "      <td>1644470.66</td>\n",
       "      <td>0.0</td>\n",
       "      <td>78.89</td>\n",
       "      <td>2.759</td>\n",
       "      <td>212.412888</td>\n",
       "      <td>7.092</td>\n",
       "    </tr>\n",
       "  </tbody>\n",
       "</table>\n",
       "</div>"
      ],
      "text/plain": [
       "   Store        Date  Weekly_Sales  Holiday_Flag  Temperature  Fuel_Price  \\\n",
       "0    6.0  18-02-2011    1572117.54           NaN        59.61       3.045   \n",
       "1   13.0  25-03-2011    1807545.43           0.0        42.38       3.435   \n",
       "2   17.0  27-07-2012           NaN           0.0          NaN         NaN   \n",
       "3   11.0         NaN    1244390.03           0.0        84.57         NaN   \n",
       "4    6.0  28-05-2010    1644470.66           0.0        78.89       2.759   \n",
       "\n",
       "          CPI  Unemployment  \n",
       "0  214.777523         6.858  \n",
       "1  128.616064         7.470  \n",
       "2  130.719581         5.936  \n",
       "3  214.556497         7.346  \n",
       "4  212.412888         7.092  "
      ]
     },
     "execution_count": 4,
     "metadata": {},
     "output_type": "execute_result"
    }
   ],
   "source": [
    "df.head()"
   ]
  },
  {
   "cell_type": "code",
   "execution_count": 5,
   "metadata": {},
   "outputs": [
    {
     "name": "stdout",
     "output_type": "stream",
     "text": [
      "(150, 8)\n"
     ]
    },
    {
     "data": {
      "text/html": [
       "<div>\n",
       "<style scoped>\n",
       "    .dataframe tbody tr th:only-of-type {\n",
       "        vertical-align: middle;\n",
       "    }\n",
       "\n",
       "    .dataframe tbody tr th {\n",
       "        vertical-align: top;\n",
       "    }\n",
       "\n",
       "    .dataframe thead th {\n",
       "        text-align: right;\n",
       "    }\n",
       "</style>\n",
       "<table border=\"1\" class=\"dataframe\">\n",
       "  <thead>\n",
       "    <tr style=\"text-align: right;\">\n",
       "      <th></th>\n",
       "      <th>Store</th>\n",
       "      <th>Date</th>\n",
       "      <th>Weekly_Sales</th>\n",
       "      <th>Holiday_Flag</th>\n",
       "      <th>Temperature</th>\n",
       "      <th>Fuel_Price</th>\n",
       "      <th>CPI</th>\n",
       "      <th>Unemployment</th>\n",
       "    </tr>\n",
       "  </thead>\n",
       "  <tbody>\n",
       "    <tr>\n",
       "      <th>count</th>\n",
       "      <td>150.000000</td>\n",
       "      <td>132</td>\n",
       "      <td>1.360000e+02</td>\n",
       "      <td>138.000000</td>\n",
       "      <td>132.000000</td>\n",
       "      <td>136.000000</td>\n",
       "      <td>138.000000</td>\n",
       "      <td>135.000000</td>\n",
       "    </tr>\n",
       "    <tr>\n",
       "      <th>unique</th>\n",
       "      <td>NaN</td>\n",
       "      <td>85</td>\n",
       "      <td>NaN</td>\n",
       "      <td>NaN</td>\n",
       "      <td>NaN</td>\n",
       "      <td>NaN</td>\n",
       "      <td>NaN</td>\n",
       "      <td>NaN</td>\n",
       "    </tr>\n",
       "    <tr>\n",
       "      <th>top</th>\n",
       "      <td>NaN</td>\n",
       "      <td>19-10-2012</td>\n",
       "      <td>NaN</td>\n",
       "      <td>NaN</td>\n",
       "      <td>NaN</td>\n",
       "      <td>NaN</td>\n",
       "      <td>NaN</td>\n",
       "      <td>NaN</td>\n",
       "    </tr>\n",
       "    <tr>\n",
       "      <th>freq</th>\n",
       "      <td>NaN</td>\n",
       "      <td>4</td>\n",
       "      <td>NaN</td>\n",
       "      <td>NaN</td>\n",
       "      <td>NaN</td>\n",
       "      <td>NaN</td>\n",
       "      <td>NaN</td>\n",
       "      <td>NaN</td>\n",
       "    </tr>\n",
       "    <tr>\n",
       "      <th>mean</th>\n",
       "      <td>9.866667</td>\n",
       "      <td>NaN</td>\n",
       "      <td>1.249536e+06</td>\n",
       "      <td>0.079710</td>\n",
       "      <td>61.398106</td>\n",
       "      <td>3.320853</td>\n",
       "      <td>179.898509</td>\n",
       "      <td>7.598430</td>\n",
       "    </tr>\n",
       "    <tr>\n",
       "      <th>std</th>\n",
       "      <td>6.231191</td>\n",
       "      <td>NaN</td>\n",
       "      <td>6.474630e+05</td>\n",
       "      <td>0.271831</td>\n",
       "      <td>18.378901</td>\n",
       "      <td>0.478149</td>\n",
       "      <td>40.274956</td>\n",
       "      <td>1.577173</td>\n",
       "    </tr>\n",
       "    <tr>\n",
       "      <th>min</th>\n",
       "      <td>1.000000</td>\n",
       "      <td>NaN</td>\n",
       "      <td>2.689290e+05</td>\n",
       "      <td>0.000000</td>\n",
       "      <td>18.790000</td>\n",
       "      <td>2.514000</td>\n",
       "      <td>126.111903</td>\n",
       "      <td>5.143000</td>\n",
       "    </tr>\n",
       "    <tr>\n",
       "      <th>25%</th>\n",
       "      <td>4.000000</td>\n",
       "      <td>NaN</td>\n",
       "      <td>6.050757e+05</td>\n",
       "      <td>0.000000</td>\n",
       "      <td>45.587500</td>\n",
       "      <td>2.852250</td>\n",
       "      <td>131.970831</td>\n",
       "      <td>6.597500</td>\n",
       "    </tr>\n",
       "    <tr>\n",
       "      <th>50%</th>\n",
       "      <td>9.000000</td>\n",
       "      <td>NaN</td>\n",
       "      <td>1.261424e+06</td>\n",
       "      <td>0.000000</td>\n",
       "      <td>62.985000</td>\n",
       "      <td>3.451000</td>\n",
       "      <td>197.908893</td>\n",
       "      <td>7.470000</td>\n",
       "    </tr>\n",
       "    <tr>\n",
       "      <th>75%</th>\n",
       "      <td>15.750000</td>\n",
       "      <td>NaN</td>\n",
       "      <td>1.806386e+06</td>\n",
       "      <td>0.000000</td>\n",
       "      <td>76.345000</td>\n",
       "      <td>3.706250</td>\n",
       "      <td>214.934616</td>\n",
       "      <td>8.150000</td>\n",
       "    </tr>\n",
       "    <tr>\n",
       "      <th>max</th>\n",
       "      <td>20.000000</td>\n",
       "      <td>NaN</td>\n",
       "      <td>2.771397e+06</td>\n",
       "      <td>1.000000</td>\n",
       "      <td>91.650000</td>\n",
       "      <td>4.193000</td>\n",
       "      <td>226.968844</td>\n",
       "      <td>14.313000</td>\n",
       "    </tr>\n",
       "  </tbody>\n",
       "</table>\n",
       "</div>"
      ],
      "text/plain": [
       "             Store        Date  Weekly_Sales  Holiday_Flag  Temperature  \\\n",
       "count   150.000000         132  1.360000e+02    138.000000   132.000000   \n",
       "unique         NaN          85           NaN           NaN          NaN   \n",
       "top            NaN  19-10-2012           NaN           NaN          NaN   \n",
       "freq           NaN           4           NaN           NaN          NaN   \n",
       "mean      9.866667         NaN  1.249536e+06      0.079710    61.398106   \n",
       "std       6.231191         NaN  6.474630e+05      0.271831    18.378901   \n",
       "min       1.000000         NaN  2.689290e+05      0.000000    18.790000   \n",
       "25%       4.000000         NaN  6.050757e+05      0.000000    45.587500   \n",
       "50%       9.000000         NaN  1.261424e+06      0.000000    62.985000   \n",
       "75%      15.750000         NaN  1.806386e+06      0.000000    76.345000   \n",
       "max      20.000000         NaN  2.771397e+06      1.000000    91.650000   \n",
       "\n",
       "        Fuel_Price         CPI  Unemployment  \n",
       "count   136.000000  138.000000    135.000000  \n",
       "unique         NaN         NaN           NaN  \n",
       "top            NaN         NaN           NaN  \n",
       "freq           NaN         NaN           NaN  \n",
       "mean      3.320853  179.898509      7.598430  \n",
       "std       0.478149   40.274956      1.577173  \n",
       "min       2.514000  126.111903      5.143000  \n",
       "25%       2.852250  131.970831      6.597500  \n",
       "50%       3.451000  197.908893      7.470000  \n",
       "75%       3.706250  214.934616      8.150000  \n",
       "max       4.193000  226.968844     14.313000  "
      ]
     },
     "execution_count": 5,
     "metadata": {},
     "output_type": "execute_result"
    }
   ],
   "source": [
    "print(df.shape)\n",
    "df.describe(include='all')"
   ]
  },
  {
   "cell_type": "code",
   "execution_count": 6,
   "metadata": {},
   "outputs": [
    {
     "name": "stdout",
     "output_type": "stream",
     "text": [
      "<class 'pandas.core.frame.DataFrame'>\n",
      "RangeIndex: 150 entries, 0 to 149\n",
      "Data columns (total 8 columns):\n",
      " #   Column        Non-Null Count  Dtype  \n",
      "---  ------        --------------  -----  \n",
      " 0   Store         150 non-null    float64\n",
      " 1   Date          132 non-null    object \n",
      " 2   Weekly_Sales  136 non-null    float64\n",
      " 3   Holiday_Flag  138 non-null    float64\n",
      " 4   Temperature   132 non-null    float64\n",
      " 5   Fuel_Price    136 non-null    float64\n",
      " 6   CPI           138 non-null    float64\n",
      " 7   Unemployment  135 non-null    float64\n",
      "dtypes: float64(7), object(1)\n",
      "memory usage: 9.5+ KB\n"
     ]
    }
   ],
   "source": [
    "df.info()"
   ]
  },
  {
   "cell_type": "code",
   "execution_count": 7,
   "metadata": {},
   "outputs": [
    {
     "data": {
      "text/plain": [
       "Date            12.000000\n",
       "Temperature     12.000000\n",
       "Unemployment    10.000000\n",
       "Weekly_Sales     9.333333\n",
       "Fuel_Price       9.333333\n",
       "Holiday_Flag     8.000000\n",
       "CPI              8.000000\n",
       "Store            0.000000\n",
       "dtype: float64"
      ]
     },
     "execution_count": 7,
     "metadata": {},
     "output_type": "execute_result"
    }
   ],
   "source": [
    "missing_values = df.isnull().mean() * 100\n",
    "missing_values.sort_values(ascending=False)"
   ]
  },
  {
   "cell_type": "code",
   "execution_count": 8,
   "metadata": {},
   "outputs": [
    {
     "data": {
      "text/plain": [
       "np.int64(18)"
      ]
     },
     "execution_count": 8,
     "metadata": {},
     "output_type": "execute_result"
    }
   ],
   "source": [
    "df['Date'] = pd.to_datetime(df['Date'], dayfirst=True, errors='coerce')\n",
    "df['Date'].isnull().sum()"
   ]
  },
  {
   "cell_type": "code",
   "execution_count": 9,
   "metadata": {},
   "outputs": [
    {
     "data": {
      "text/html": [
       "<div>\n",
       "<style scoped>\n",
       "    .dataframe tbody tr th:only-of-type {\n",
       "        vertical-align: middle;\n",
       "    }\n",
       "\n",
       "    .dataframe tbody tr th {\n",
       "        vertical-align: top;\n",
       "    }\n",
       "\n",
       "    .dataframe thead th {\n",
       "        text-align: right;\n",
       "    }\n",
       "</style>\n",
       "<table border=\"1\" class=\"dataframe\">\n",
       "  <thead>\n",
       "    <tr style=\"text-align: right;\">\n",
       "      <th></th>\n",
       "      <th>Store</th>\n",
       "      <th>Date</th>\n",
       "      <th>Weekly_Sales</th>\n",
       "      <th>Holiday_Flag</th>\n",
       "      <th>Temperature</th>\n",
       "      <th>Fuel_Price</th>\n",
       "      <th>CPI</th>\n",
       "      <th>Unemployment</th>\n",
       "    </tr>\n",
       "  </thead>\n",
       "  <tbody>\n",
       "    <tr>\n",
       "      <th>0</th>\n",
       "      <td>6.0</td>\n",
       "      <td>2011-02-18</td>\n",
       "      <td>1572117.54</td>\n",
       "      <td>NaN</td>\n",
       "      <td>59.61</td>\n",
       "      <td>3.045</td>\n",
       "      <td>214.777523</td>\n",
       "      <td>6.858</td>\n",
       "    </tr>\n",
       "    <tr>\n",
       "      <th>1</th>\n",
       "      <td>13.0</td>\n",
       "      <td>2011-03-25</td>\n",
       "      <td>1807545.43</td>\n",
       "      <td>0.0</td>\n",
       "      <td>42.38</td>\n",
       "      <td>3.435</td>\n",
       "      <td>128.616064</td>\n",
       "      <td>7.470</td>\n",
       "    </tr>\n",
       "    <tr>\n",
       "      <th>2</th>\n",
       "      <td>17.0</td>\n",
       "      <td>2012-07-27</td>\n",
       "      <td>NaN</td>\n",
       "      <td>0.0</td>\n",
       "      <td>NaN</td>\n",
       "      <td>NaN</td>\n",
       "      <td>130.719581</td>\n",
       "      <td>5.936</td>\n",
       "    </tr>\n",
       "    <tr>\n",
       "      <th>3</th>\n",
       "      <td>11.0</td>\n",
       "      <td>NaT</td>\n",
       "      <td>1244390.03</td>\n",
       "      <td>0.0</td>\n",
       "      <td>84.57</td>\n",
       "      <td>NaN</td>\n",
       "      <td>214.556497</td>\n",
       "      <td>7.346</td>\n",
       "    </tr>\n",
       "    <tr>\n",
       "      <th>4</th>\n",
       "      <td>6.0</td>\n",
       "      <td>2010-05-28</td>\n",
       "      <td>1644470.66</td>\n",
       "      <td>0.0</td>\n",
       "      <td>78.89</td>\n",
       "      <td>2.759</td>\n",
       "      <td>212.412888</td>\n",
       "      <td>7.092</td>\n",
       "    </tr>\n",
       "    <tr>\n",
       "      <th>...</th>\n",
       "      <td>...</td>\n",
       "      <td>...</td>\n",
       "      <td>...</td>\n",
       "      <td>...</td>\n",
       "      <td>...</td>\n",
       "      <td>...</td>\n",
       "      <td>...</td>\n",
       "      <td>...</td>\n",
       "    </tr>\n",
       "    <tr>\n",
       "      <th>145</th>\n",
       "      <td>14.0</td>\n",
       "      <td>2010-06-18</td>\n",
       "      <td>2248645.59</td>\n",
       "      <td>0.0</td>\n",
       "      <td>72.62</td>\n",
       "      <td>2.780</td>\n",
       "      <td>182.442420</td>\n",
       "      <td>8.899</td>\n",
       "    </tr>\n",
       "    <tr>\n",
       "      <th>146</th>\n",
       "      <td>7.0</td>\n",
       "      <td>NaT</td>\n",
       "      <td>716388.81</td>\n",
       "      <td>NaN</td>\n",
       "      <td>20.74</td>\n",
       "      <td>2.778</td>\n",
       "      <td>NaN</td>\n",
       "      <td>NaN</td>\n",
       "    </tr>\n",
       "    <tr>\n",
       "      <th>147</th>\n",
       "      <td>17.0</td>\n",
       "      <td>2010-06-11</td>\n",
       "      <td>845252.21</td>\n",
       "      <td>0.0</td>\n",
       "      <td>57.14</td>\n",
       "      <td>2.841</td>\n",
       "      <td>126.111903</td>\n",
       "      <td>NaN</td>\n",
       "    </tr>\n",
       "    <tr>\n",
       "      <th>148</th>\n",
       "      <td>8.0</td>\n",
       "      <td>2011-08-12</td>\n",
       "      <td>856796.10</td>\n",
       "      <td>0.0</td>\n",
       "      <td>86.05</td>\n",
       "      <td>3.638</td>\n",
       "      <td>219.007525</td>\n",
       "      <td>NaN</td>\n",
       "    </tr>\n",
       "    <tr>\n",
       "      <th>149</th>\n",
       "      <td>19.0</td>\n",
       "      <td>2012-04-20</td>\n",
       "      <td>1255087.26</td>\n",
       "      <td>0.0</td>\n",
       "      <td>55.20</td>\n",
       "      <td>4.170</td>\n",
       "      <td>137.923067</td>\n",
       "      <td>8.150</td>\n",
       "    </tr>\n",
       "  </tbody>\n",
       "</table>\n",
       "<p>150 rows × 8 columns</p>\n",
       "</div>"
      ],
      "text/plain": [
       "     Store       Date  Weekly_Sales  Holiday_Flag  Temperature  Fuel_Price  \\\n",
       "0      6.0 2011-02-18    1572117.54           NaN        59.61       3.045   \n",
       "1     13.0 2011-03-25    1807545.43           0.0        42.38       3.435   \n",
       "2     17.0 2012-07-27           NaN           0.0          NaN         NaN   \n",
       "3     11.0        NaT    1244390.03           0.0        84.57         NaN   \n",
       "4      6.0 2010-05-28    1644470.66           0.0        78.89       2.759   \n",
       "..     ...        ...           ...           ...          ...         ...   \n",
       "145   14.0 2010-06-18    2248645.59           0.0        72.62       2.780   \n",
       "146    7.0        NaT     716388.81           NaN        20.74       2.778   \n",
       "147   17.0 2010-06-11     845252.21           0.0        57.14       2.841   \n",
       "148    8.0 2011-08-12     856796.10           0.0        86.05       3.638   \n",
       "149   19.0 2012-04-20    1255087.26           0.0        55.20       4.170   \n",
       "\n",
       "            CPI  Unemployment  \n",
       "0    214.777523         6.858  \n",
       "1    128.616064         7.470  \n",
       "2    130.719581         5.936  \n",
       "3    214.556497         7.346  \n",
       "4    212.412888         7.092  \n",
       "..          ...           ...  \n",
       "145  182.442420         8.899  \n",
       "146         NaN           NaN  \n",
       "147  126.111903           NaN  \n",
       "148  219.007525           NaN  \n",
       "149  137.923067         8.150  \n",
       "\n",
       "[150 rows x 8 columns]"
      ]
     },
     "execution_count": 9,
     "metadata": {},
     "output_type": "execute_result"
    }
   ],
   "source": [
    "df"
   ]
  },
  {
   "cell_type": "code",
   "execution_count": 10,
   "metadata": {},
   "outputs": [
    {
     "data": {
      "text/plain": [
       "np.int64(0)"
      ]
     },
     "execution_count": 10,
     "metadata": {},
     "output_type": "execute_result"
    }
   ],
   "source": [
    "df_cleaned = df.copy()\n",
    "\n",
    "temperature_mean = df_cleaned['Temperature'].mean()\n",
    "df_cleaned['Temperature'] = df_cleaned['Temperature'].fillna(temperature_mean)\n",
    "df_cleaned['Temperature'].isnull().sum()"
   ]
  },
  {
   "cell_type": "code",
   "execution_count": 11,
   "metadata": {},
   "outputs": [],
   "source": [
    "#Remplacement par interpolation\n",
    "#on trie par date pour assurer une interpolation cohérente\n",
    "df_cleaned = df_cleaned.sort_values(by='Date')\n",
    "\n",
    "columns_to_interpolate = ['Fuel_Price', 'CPI', 'Unemployment']\n",
    "df_cleaned[columns_to_interpolate] = df_cleaned[columns_to_interpolate].interpolate(method='linear')\n",
    "\n",
    "# Remplacer les valeurs manquantes dans Holiday_Flag par 0\n",
    "df_cleaned['Holiday_Flag'] = df_cleaned['Holiday_Flag'].fillna(0)\n",
    "\n"
   ]
  },
  {
   "cell_type": "code",
   "execution_count": 12,
   "metadata": {},
   "outputs": [
    {
     "data": {
      "text/plain": [
       "Date            12.000000\n",
       "Weekly_Sales     9.333333\n",
       "Store            0.000000\n",
       "Holiday_Flag     0.000000\n",
       "Temperature      0.000000\n",
       "Fuel_Price       0.000000\n",
       "CPI              0.000000\n",
       "Unemployment     0.000000\n",
       "dtype: float64"
      ]
     },
     "execution_count": 12,
     "metadata": {},
     "output_type": "execute_result"
    }
   ],
   "source": [
    "missing_values = df_cleaned.isnull().mean() * 100\n",
    "missing_values.sort_values(ascending=False)"
   ]
  },
  {
   "cell_type": "code",
   "execution_count": 13,
   "metadata": {},
   "outputs": [
    {
     "data": {
      "text/plain": [
       "(150, 8)"
      ]
     },
     "execution_count": 13,
     "metadata": {},
     "output_type": "execute_result"
    }
   ],
   "source": [
    "df_cleaned.shape"
   ]
  },
  {
   "cell_type": "code",
   "execution_count": 14,
   "metadata": {},
   "outputs": [
    {
     "data": {
      "text/plain": [
       "(136, 8)"
      ]
     },
     "execution_count": 14,
     "metadata": {},
     "output_type": "execute_result"
    }
   ],
   "source": [
    "# Supprimer les valeurs manquantes\n",
    "df_sumsales = df_cleaned.dropna(subset=['Weekly_Sales']).copy()\n",
    "df_sumsales.shape"
   ]
  },
  {
   "cell_type": "code",
   "execution_count": 15,
   "metadata": {},
   "outputs": [
    {
     "data": {
      "text/html": [
       "<div>\n",
       "<style scoped>\n",
       "    .dataframe tbody tr th:only-of-type {\n",
       "        vertical-align: middle;\n",
       "    }\n",
       "\n",
       "    .dataframe tbody tr th {\n",
       "        vertical-align: top;\n",
       "    }\n",
       "\n",
       "    .dataframe thead th {\n",
       "        text-align: right;\n",
       "    }\n",
       "</style>\n",
       "<table border=\"1\" class=\"dataframe\">\n",
       "  <thead>\n",
       "    <tr style=\"text-align: right;\">\n",
       "      <th></th>\n",
       "      <th>Store</th>\n",
       "      <th>Date</th>\n",
       "      <th>Weekly_Sales</th>\n",
       "      <th>Holiday_Flag</th>\n",
       "      <th>Temperature</th>\n",
       "      <th>Fuel_Price</th>\n",
       "      <th>CPI</th>\n",
       "      <th>Unemployment</th>\n",
       "    </tr>\n",
       "  </thead>\n",
       "  <tbody>\n",
       "    <tr>\n",
       "      <th>67</th>\n",
       "      <td>3.0</td>\n",
       "      <td>2010-02-05</td>\n",
       "      <td>461622.22</td>\n",
       "      <td>0.0</td>\n",
       "      <td>45.710000</td>\n",
       "      <td>2.572</td>\n",
       "      <td>214.424881</td>\n",
       "      <td>7.368000</td>\n",
       "    </tr>\n",
       "    <tr>\n",
       "      <th>44</th>\n",
       "      <td>1.0</td>\n",
       "      <td>2010-02-12</td>\n",
       "      <td>1641957.44</td>\n",
       "      <td>1.0</td>\n",
       "      <td>38.510000</td>\n",
       "      <td>2.548</td>\n",
       "      <td>211.242170</td>\n",
       "      <td>8.106000</td>\n",
       "    </tr>\n",
       "    <tr>\n",
       "      <th>107</th>\n",
       "      <td>8.0</td>\n",
       "      <td>2010-02-12</td>\n",
       "      <td>994801.40</td>\n",
       "      <td>1.0</td>\n",
       "      <td>33.340000</td>\n",
       "      <td>2.548</td>\n",
       "      <td>214.621419</td>\n",
       "      <td>6.299000</td>\n",
       "    </tr>\n",
       "    <tr>\n",
       "      <th>112</th>\n",
       "      <td>2.0</td>\n",
       "      <td>2010-02-19</td>\n",
       "      <td>2124451.54</td>\n",
       "      <td>0.0</td>\n",
       "      <td>39.690000</td>\n",
       "      <td>2.514</td>\n",
       "      <td>210.945160</td>\n",
       "      <td>7.196667</td>\n",
       "    </tr>\n",
       "    <tr>\n",
       "      <th>115</th>\n",
       "      <td>15.0</td>\n",
       "      <td>2010-02-19</td>\n",
       "      <td>660838.75</td>\n",
       "      <td>0.0</td>\n",
       "      <td>61.398106</td>\n",
       "      <td>2.909</td>\n",
       "      <td>131.637000</td>\n",
       "      <td>8.094333</td>\n",
       "    </tr>\n",
       "  </tbody>\n",
       "</table>\n",
       "</div>"
      ],
      "text/plain": [
       "     Store       Date  Weekly_Sales  Holiday_Flag  Temperature  Fuel_Price  \\\n",
       "67     3.0 2010-02-05     461622.22           0.0    45.710000       2.572   \n",
       "44     1.0 2010-02-12    1641957.44           1.0    38.510000       2.548   \n",
       "107    8.0 2010-02-12     994801.40           1.0    33.340000       2.548   \n",
       "112    2.0 2010-02-19    2124451.54           0.0    39.690000       2.514   \n",
       "115   15.0 2010-02-19     660838.75           0.0    61.398106       2.909   \n",
       "\n",
       "            CPI  Unemployment  \n",
       "67   214.424881      7.368000  \n",
       "44   211.242170      8.106000  \n",
       "107  214.621419      6.299000  \n",
       "112  210.945160      7.196667  \n",
       "115  131.637000      8.094333  "
      ]
     },
     "execution_count": 15,
     "metadata": {},
     "output_type": "execute_result"
    }
   ],
   "source": [
    "df_sumsales.head()"
   ]
  },
  {
   "cell_type": "code",
   "execution_count": 16,
   "metadata": {},
   "outputs": [
    {
     "name": "stdout",
     "output_type": "stream",
     "text": [
      "<class 'pandas.core.frame.DataFrame'>\n",
      "Index: 136 entries, 67 to 146\n",
      "Data columns (total 8 columns):\n",
      " #   Column        Non-Null Count  Dtype         \n",
      "---  ------        --------------  -----         \n",
      " 0   Store         136 non-null    float64       \n",
      " 1   Date          118 non-null    datetime64[ns]\n",
      " 2   Weekly_Sales  136 non-null    float64       \n",
      " 3   Holiday_Flag  136 non-null    float64       \n",
      " 4   Temperature   136 non-null    float64       \n",
      " 5   Fuel_Price    136 non-null    float64       \n",
      " 6   CPI           136 non-null    float64       \n",
      " 7   Unemployment  136 non-null    float64       \n",
      "dtypes: datetime64[ns](1), float64(7)\n",
      "memory usage: 9.6 KB\n"
     ]
    }
   ],
   "source": [
    "df_sumsales.info()"
   ]
  },
  {
   "cell_type": "code",
   "execution_count": 17,
   "metadata": {},
   "outputs": [
    {
     "data": {
      "text/html": [
       "<div>\n",
       "<style scoped>\n",
       "    .dataframe tbody tr th:only-of-type {\n",
       "        vertical-align: middle;\n",
       "    }\n",
       "\n",
       "    .dataframe tbody tr th {\n",
       "        vertical-align: top;\n",
       "    }\n",
       "\n",
       "    .dataframe thead th {\n",
       "        text-align: right;\n",
       "    }\n",
       "</style>\n",
       "<table border=\"1\" class=\"dataframe\">\n",
       "  <thead>\n",
       "    <tr style=\"text-align: right;\">\n",
       "      <th></th>\n",
       "      <th>Date</th>\n",
       "      <th>Year</th>\n",
       "      <th>Month</th>\n",
       "      <th>Week</th>\n",
       "    </tr>\n",
       "  </thead>\n",
       "  <tbody>\n",
       "    <tr>\n",
       "      <th>67</th>\n",
       "      <td>2010-02-05</td>\n",
       "      <td>2010.0</td>\n",
       "      <td>2.0</td>\n",
       "      <td>5</td>\n",
       "    </tr>\n",
       "    <tr>\n",
       "      <th>44</th>\n",
       "      <td>2010-02-12</td>\n",
       "      <td>2010.0</td>\n",
       "      <td>2.0</td>\n",
       "      <td>6</td>\n",
       "    </tr>\n",
       "    <tr>\n",
       "      <th>107</th>\n",
       "      <td>2010-02-12</td>\n",
       "      <td>2010.0</td>\n",
       "      <td>2.0</td>\n",
       "      <td>6</td>\n",
       "    </tr>\n",
       "    <tr>\n",
       "      <th>112</th>\n",
       "      <td>2010-02-19</td>\n",
       "      <td>2010.0</td>\n",
       "      <td>2.0</td>\n",
       "      <td>7</td>\n",
       "    </tr>\n",
       "    <tr>\n",
       "      <th>115</th>\n",
       "      <td>2010-02-19</td>\n",
       "      <td>2010.0</td>\n",
       "      <td>2.0</td>\n",
       "      <td>7</td>\n",
       "    </tr>\n",
       "  </tbody>\n",
       "</table>\n",
       "</div>"
      ],
      "text/plain": [
       "          Date    Year  Month  Week\n",
       "67  2010-02-05  2010.0    2.0     5\n",
       "44  2010-02-12  2010.0    2.0     6\n",
       "107 2010-02-12  2010.0    2.0     6\n",
       "112 2010-02-19  2010.0    2.0     7\n",
       "115 2010-02-19  2010.0    2.0     7"
      ]
     },
     "execution_count": 17,
     "metadata": {},
     "output_type": "execute_result"
    }
   ],
   "source": [
    "df_sumsales['Year'] = df_sumsales['Date'].dt.year\n",
    "df_sumsales['Month'] = df_sumsales['Date'].dt.month\n",
    "df_sumsales['Week'] = df_sumsales['Date'].dt.isocalendar().week\n",
    "\n",
    "df_sumsales[['Date', 'Year', 'Month', 'Week']].head()"
   ]
  },
  {
   "cell_type": "code",
   "execution_count": 18,
   "metadata": {},
   "outputs": [
    {
     "data": {
      "image/png": "[encoded data removed]",
      "text/plain": [
       "<Figure size 1400x600 with 1 Axes>"
      ]
     },
     "metadata": {},
     "output_type": "display_data"
    }
   ],
   "source": [
    "weekly_sales_distrib = df_sumsales.groupby('Date')['Weekly_Sales'].sum()\n",
    "\n",
    "plt.figure(figsize=(14, 6))\n",
    "plt.plot(weekly_sales_distrib.index, weekly_sales_distrib.values)\n",
    "plt.title('Weekly Sales Distribution Over Time')\n",
    "plt.xlabel('Date', fontsize=14)\n",
    "plt.ylabel('Weekly Sales', fontsize=14)\n",
    "plt.grid(True)\n",
    "plt.show()"
   ]
  },
  {
   "cell_type": "code",
   "execution_count": 19,
   "metadata": {},
   "outputs": [
    {
     "data": {
      "image/png": "[encoded data removed]",
      "text/plain": [
       "<Figure size 1400x600 with 1 Axes>"
      ]
     },
     "metadata": {},
     "output_type": "display_data"
    }
   ],
   "source": [
    "# Calculer la somme des ventes hebdomadaires par magasin\n",
    "store_sales = df_sumsales.groupby('Store')['Weekly_Sales'].mean()\n",
    "\n",
    "# Tracer un graphique des ventes moyennes par magasin\n",
    "plt.figure(figsize=(14,6))\n",
    "plt.bar(store_sales.index, store_sales.values)\n",
    "plt.title('Ventes hebdomadaires moyennes par magasin', fontsize=16)\n",
    "plt.xlabel('Magasin (Store)', fontsize=14)\n",
    "plt.ylabel('Ventes moyennes (Million $)', size=14)\n",
    "plt.xticks(store_sales.index)\n",
    "plt.grid(axis='y')\n",
    "plt.show()"
   ]
  },
  {
   "cell_type": "code",
   "execution_count": 20,
   "metadata": {},
   "outputs": [
    {
     "data": {
      "application/vnd.plotly.v1+json": {
       "config": {
        "plotlyServerURL": "https://plot.ly"
       },
       "data": [
        {
         "name": "Temperature",
         "type": "box",
         "xaxis": "x",
         "y": [
          59.61,
          42.38,
          null,
          84.57,
          78.89,
          null,
          69.8,
          39.93,
          30.54,
          60.12,
          82.92,
          52.02,
          36.61,
          64.74,
          60.07,
          68.91,
          76.34,
          21.33,
          50.13,
          72.38,
          38.26,
          77.38,
          50.97,
          39.07,
          50.76,
          44.82,
          51.86,
          43.95,
          45.22,
          null,
          68.4,
          null,
          18.79,
          37,
          87.7,
          33.26,
          80.19,
          null,
          81.85,
          60.71,
          50.43,
          null,
          null,
          57.6,
          38.51,
          54.63,
          82.46,
          66.25,
          91.65,
          48.29,
          61.11,
          59.69,
          85.02,
          41.76,
          86.87,
          63.6,
          74.92,
          null,
          null,
          36.85,
          null,
          57.62,
          52.77,
          69.17,
          36.44,
          43.43,
          73.67,
          45.71,
          91.04,
          50.49,
          27.4,
          76.36,
          36.78,
          85.22,
          67.97,
          75.17,
          47.42,
          88.07,
          62.25,
          69.37,
          49.96,
          null,
          52.77,
          79.97,
          76.14,
          44.69,
          null,
          75.19,
          39.79,
          76.42,
          78.51,
          68.91,
          null,
          null,
          78.47,
          74.78,
          49.76,
          67.53,
          90.32,
          78.82,
          83.52,
          46.75,
          69.75,
          42.4,
          82.7,
          72.83,
          34.89,
          33.34,
          69.12,
          43.93,
          28.85,
          null,
          39.69,
          32.71,
          69.9,
          null,
          39.3,
          44.42,
          82.99,
          34.32,
          75.32,
          89.42,
          57.84,
          null,
          68.26,
          63.91,
          85.46,
          61.79,
          75.95,
          73.25,
          52.5,
          null,
          82.84,
          80.94,
          69.68,
          83.63,
          84.59,
          88.44,
          74.24,
          50.6,
          53.35,
          62.37,
          75.54,
          78.53,
          73.44,
          72.62,
          20.74,
          57.14,
          86.05,
          55.2
         ],
         "yaxis": "y"
        },
        {
         "name": "Fuel Price",
         "type": "box",
         "xaxis": "x2",
         "y": [
          3.045,
          3.435,
          null,
          null,
          2.759,
          2.756,
          4.069,
          3.617,
          3.109,
          3.555,
          3.554,
          2.878,
          3.767,
          3.734,
          2.853,
          2.78,
          2.85,
          2.7880000000000003,
          null,
          3.63,
          2.725,
          3.899,
          4.029,
          2.963,
          4.124,
          3.797,
          3.261,
          3.828,
          2.915,
          3.523,
          4.1930000000000005,
          3.129,
          3.103,
          null,
          3.48,
          3.789,
          3.467,
          3.823,
          3.57,
          3.297,
          4.023,
          3.659,
          3.73,
          3.485,
          2.548,
          3.555,
          2.64,
          2.958,
          3.684,
          3.75,
          3.788,
          2.728,
          2.653,
          3.625,
          3.666,
          3.648,
          2.619,
          2.98,
          2.64,
          3.695,
          4.046,
          3.882,
          3.236,
          3.594,
          3.149,
          3.287,
          2.792,
          2.572,
          3.701,
          2.854,
          3.139,
          3.911,
          2.817,
          2.619,
          3.594,
          2.8080000000000003,
          4.021,
          3.682,
          3.3080000000000003,
          null,
          2.7710000000000004,
          3.63,
          3.51,
          3.972,
          2.577,
          2.9760000000000004,
          3.793,
          3.688,
          3.739,
          3.786,
          2.642,
          3.63,
          2.667,
          4.087,
          3.76,
          2.854,
          null,
          null,
          null,
          2.814,
          2.637,
          null,
          3.815,
          2.86,
          3.346,
          2.932,
          null,
          2.548,
          2.906,
          3.158,
          3.179,
          3.722,
          2.514,
          null,
          2.735,
          2.909,
          3.936,
          4.187,
          2.637,
          3.193,
          2.582,
          3.682,
          3.596,
          3.786,
          null,
          3.3080000000000003,
          3.651,
          2.7110000000000003,
          3.606,
          3.84,
          3.529,
          2.8310000000000004,
          3.627,
          null,
          3.594,
          3.044,
          3.469,
          3.112,
          3.807,
          3.804,
          2.9760000000000004,
          null,
          3.285,
          2.705,
          3.594,
          2.78,
          2.778,
          2.841,
          3.638,
          4.17
         ],
         "yaxis": "y2"
        },
        {
         "name": "CPI",
         "type": "box",
         "xaxis": "x3",
         "y": [
          214.7775231,
          128.6160645,
          130.7195806,
          214.55649680000005,
          212.412888,
          126.1602258,
          134.85516130000002,
          213.0236225,
          null,
          224.1320199,
          219.07019680000005,
          132.7633548,
          192.826069,
          221.2118132,
          126.2346,
          211.8942725,
          null,
          131.52790320000005,
          null,
          225.2512024,
          189.7048215,
          216.5343611,
          138.9117,
          131.863129,
          138.0332,
          131.1083333,
          null,
          192.831317,
          126.5621,
          217.2706543,
          129.04443329999998,
          220.1178226,
          196.9195056,
          null,
          214.9296249,
          133.9587419,
          219.7414914,
          134.2784667,
          129.0663,
          218.5699621,
          137.9781333,
          198.1267184,
          222.4390153,
          194.3796374,
          211.24216980000003,
          220.275944,
          211.9270006,
          132.5218667,
          215.544618,
          197.4133259,
          130.95922579999998,
          211.6608975,
          214.8965756,
          184.9943679,
          130.7196333,
          129.5183333,
          214.9362793,
          127.1917742,
          212.8944846,
          189.8424834,
          185.9374378,
          130.6457931,
          126.8794839,
          224.0192873,
          129.8980645,
          127.1917742,
          132.6141935,
          214.4248812,
          129.2015806,
          204.201755,
          null,
          215.21895730000003,
          126.7934,
          211.5673056,
          223.4257233,
          204.5675459,
          137.5843871,
          null,
          218.2205088,
          null,
          215.43728540000004,
          221.4342146,
          223.9170153,
          135.8738387,
          214.894576,
          211.0648881,
          131.03754840000002,
          225.2351496,
          213.4725116,
          215.1544822,
          214.6564301,
          null,
          214.7027646,
          129.0623548,
          186.1399808,
          210.3374261,
          214.7492449,
          210.939388,
          126.1266,
          126.1392,
          214.7858259,
          219.355063,
          135.4468,
          126.7934,
          225.3068615,
          132.5983871,
          null,
          214.62141890000004,
          132.2939355,
          218.9618456,
          204.6432267,
          138.1629,
          210.9451605,
          130.27922579999998,
          215.0614025,
          131.637,
          197.7227385,
          137.868,
          215.0166484,
          182.5983058,
          214.8785562,
          216.0464364,
          198.0950484,
          215.5037878,
          134.94254840000002,
          221.6432852,
          218.8328475,
          189.5231276,
          129.2015806,
          138.1857097,
          130.82619350000002,
          126.5461613,
          129.1507742,
          211.5972246,
          225.0501013,
          126.11458059999998,
          129.1125,
          126.1283548,
          217.0146941,
          197.5886046,
          214.6955104,
          212.5604113,
          null,
          214.4958382,
          226.9688442,
          182.4424199,
          null,
          126.1119032,
          219.0075249,
          137.9230667
         ],
         "yaxis": "y3"
        },
        {
         "name": "Unemployment",
         "type": "box",
         "xaxis": "x4",
         "y": [
          6.858,
          7.47,
          5.936,
          7.346,
          7.0920000000000005,
          7.896,
          7.657999999999999,
          6.961,
          null,
          6.832999999999998,
          6.425,
          9.331,
          8.595,
          7.348,
          6.885,
          7.0920000000000005,
          7.951,
          9.202,
          7.441,
          6.664,
          8.963,
          6.489,
          8.243,
          8.35,
          8.15,
          5.527,
          6.832999999999998,
          6.339,
          6.635,
          6.925,
          13.736,
          6.3,
          8.256,
          8.424,
          null,
          7.771,
          7.567,
          8.975,
          5.9460000000000015,
          6.3,
          8.304,
          6.061,
          6.908,
          8.622,
          8.106,
          7.057,
          6.496,
          8.099,
          7.9620000000000015,
          6.162000000000001,
          5.965,
          8.163,
          null,
          8.549,
          7.17,
          6.877000000000002,
          6.315,
          6.51,
          6.973,
          8.424,
          8.521,
          7.545,
          14.313,
          5.4220000000000015,
          5.143,
          8.744,
          9.342,
          7.3679999999999986,
          13.503,
          8.187000000000001,
          9.331,
          null,
          7.795,
          7.787000000000001,
          null,
          7.856,
          7.943,
          7.567,
          7.866,
          7.527,
          6.56,
          5.943,
          6.832999999999998,
          7.806,
          6.315,
          8.027999999999999,
          6.235,
          6.664,
          6.961,
          7.931,
          6.442,
          5.936,
          null,
          13.736,
          8.625,
          7.808,
          6.299,
          null,
          9.524,
          7.951,
          7.343,
          7.057,
          8.89,
          7.127000000000002,
          6.664,
          8.099,
          8.992,
          6.299,
          null,
          7.866,
          7.484,
          8.15,
          null,
          6.104,
          7.564,
          null,
          8.09,
          8.15,
          6.384,
          null,
          6.315,
          6.529,
          7.872000000000001,
          7.682,
          7.657999999999999,
          7.197,
          6.425,
          6.867999999999999,
          6.877000000000002,
          8.535,
          6.104,
          null,
          5.644,
          7.787000000000001,
          5.329,
          14.18,
          5.644,
          9.199,
          6.855,
          8.09,
          7.551,
          6.768,
          7.197,
          7.343,
          6.034,
          8.899,
          null,
          null,
          null,
          8.15
         ],
         "yaxis": "y4"
        }
       ],
       "layout": {
        "annotations": [
         {
          "font": {
           "size": 16
          },
          "showarrow": false,
          "text": "Temperature",
          "x": 0.14444444444444446,
          "xanchor": "center",
          "xref": "paper",
          "y": 1,
          "yanchor": "bottom",
          "yref": "paper"
         },
         {
          "font": {
           "size": 16
          },
          "showarrow": false,
          "text": "Fuel Price",
          "x": 0.5,
          "xanchor": "center",
          "xref": "paper",
          "y": 1,
          "yanchor": "bottom",
          "yref": "paper"
         },
         {
          "font": {
           "size": 16
          },
          "showarrow": false,
          "text": "CPI",
          "x": 0.8555555555555556,
          "xanchor": "center",
          "xref": "paper",
          "y": 1,
          "yanchor": "bottom",
          "yref": "paper"
         },
         {
          "font": {
           "size": 16
          },
          "showarrow": false,
          "text": "Unemployment",
          "x": 0.14444444444444446,
          "xanchor": "center",
          "xref": "paper",
          "y": 0.375,
          "yanchor": "bottom",
          "yref": "paper"
         }
        ],
        "height": 600,
        "template": {
         "data": {
          "bar": [
           {
            "error_x": {
             "color": "#2a3f5f"
            },
            "error_y": {
             "color": "#2a3f5f"
            },
            "marker": {
             "line": {
              "color": "#E5ECF6",
              "width": 0.5
             },
             "pattern": {
              "fillmode": "overlay",
              "size": 10,
              "solidity": 0.2
             }
            },
            "type": "bar"
           }
          ],
          "barpolar": [
           {
            "marker": {
             "line": {
              "color": "#E5ECF6",
              "width": 0.5
             },
             "pattern": {
              "fillmode": "overlay",
              "size": 10,
              "solidity": 0.2
             }
            },
            "type": "barpolar"
           }
          ],
          "carpet": [
           {
            "aaxis": {
             "endlinecolor": "#2a3f5f",
             "gridcolor": "white",
             "linecolor": "white",
             "minorgridcolor": "white",
             "startlinecolor": "#2a3f5f"
            },
            "baxis": {
             "endlinecolor": "#2a3f5f",
             "gridcolor": "white",
             "linecolor": "white",
             "minorgridcolor": "white",
             "startlinecolor": "#2a3f5f"
            },
            "type": "carpet"
           }
          ],
          "choropleth": [
           {
            "colorbar": {
             "outlinewidth": 0,
             "ticks": ""
            },
            "type": "choropleth"
           }
          ],
          "contour": [
           {
            "colorbar": {
             "outlinewidth": 0,
             "ticks": ""
            },
            "colorscale": [
             [
              0,
              "#0d0887"
             ],
             [
              0.1111111111111111,
              "#46039f"
             ],
             [
              0.2222222222222222,
              "#7201a8"
             ],
             [
              0.3333333333333333,
              "#9c179e"
             ],
             [
              0.4444444444444444,
              "#bd3786"
             ],
             [
              0.5555555555555556,
              "#d8576b"
             ],
             [
              0.6666666666666666,
              "#ed7953"
             ],
             [
              0.7777777777777778,
              "#fb9f3a"
             ],
             [
              0.8888888888888888,
              "#fdca26"
             ],
             [
              1,
              "#f0f921"
             ]
            ],
            "type": "contour"
           }
          ],
          "contourcarpet": [
           {
            "colorbar": {
             "outlinewidth": 0,
             "ticks": ""
            },
            "type": "contourcarpet"
           }
          ],
          "heatmap": [
           {
            "colorbar": {
             "outlinewidth": 0,
             "ticks": ""
            },
            "colorscale": [
             [
              0,
              "#0d0887"
             ],
             [
              0.1111111111111111,
              "#46039f"
             ],
             [
              0.2222222222222222,
              "#7201a8"
             ],
             [
              0.3333333333333333,
              "#9c179e"
             ],
             [
              0.4444444444444444,
              "#bd3786"
             ],
             [
              0.5555555555555556,
              "#d8576b"
             ],
             [
              0.6666666666666666,
              "#ed7953"
             ],
             [
              0.7777777777777778,
              "#fb9f3a"
             ],
             [
              0.8888888888888888,
              "#fdca26"
             ],
             [
              1,
              "#f0f921"
             ]
            ],
            "type": "heatmap"
           }
          ],
          "heatmapgl": [
           {
            "colorbar": {
             "outlinewidth": 0,
             "ticks": ""
            },
            "colorscale": [
             [
              0,
              "#0d0887"
             ],
             [
              0.1111111111111111,
              "#46039f"
             ],
             [
              0.2222222222222222,
              "#7201a8"
             ],
             [
              0.3333333333333333,
              "#9c179e"
             ],
             [
              0.4444444444444444,
              "#bd3786"
             ],
             [
              0.5555555555555556,
              "#d8576b"
             ],
             [
              0.6666666666666666,
              "#ed7953"
             ],
             [
              0.7777777777777778,
              "#fb9f3a"
             ],
             [
              0.8888888888888888,
              "#fdca26"
             ],
             [
              1,
              "#f0f921"
             ]
            ],
            "type": "heatmapgl"
           }
          ],
          "histogram": [
           {
            "marker": {
             "pattern": {
              "fillmode": "overlay",
              "size": 10,
              "solidity": 0.2
             }
            },
            "type": "histogram"
           }
          ],
          "histogram2d": [
           {
            "colorbar": {
             "outlinewidth": 0,
             "ticks": ""
            },
            "colorscale": [
             [
              0,
              "#0d0887"
             ],
             [
              0.1111111111111111,
              "#46039f"
             ],
             [
              0.2222222222222222,
              "#7201a8"
             ],
             [
              0.3333333333333333,
              "#9c179e"
             ],
             [
              0.4444444444444444,
              "#bd3786"
             ],
             [
              0.5555555555555556,
              "#d8576b"
             ],
             [
              0.6666666666666666,
              "#ed7953"
             ],
             [
              0.7777777777777778,
              "#fb9f3a"
             ],
             [
              0.8888888888888888,
              "#fdca26"
             ],
             [
              1,
              "#f0f921"
             ]
            ],
            "type": "histogram2d"
           }
          ],
          "histogram2dcontour": [
           {
            "colorbar": {
             "outlinewidth": 0,
             "ticks": ""
            },
            "colorscale": [
             [
              0,
              "#0d0887"
             ],
             [
              0.1111111111111111,
              "#46039f"
             ],
             [
              0.2222222222222222,
              "#7201a8"
             ],
             [
              0.3333333333333333,
              "#9c179e"
             ],
             [
              0.4444444444444444,
              "#bd3786"
             ],
             [
              0.5555555555555556,
              "#d8576b"
             ],
             [
              0.6666666666666666,
              "#ed7953"
             ],
             [
              0.7777777777777778,
              "#fb9f3a"
             ],
             [
              0.8888888888888888,
              "#fdca26"
             ],
             [
              1,
              "#f0f921"
             ]
            ],
            "type": "histogram2dcontour"
           }
          ],
          "mesh3d": [
           {
            "colorbar": {
             "outlinewidth": 0,
             "ticks": ""
            },
            "type": "mesh3d"
           }
          ],
          "parcoords": [
           {
            "line": {
             "colorbar": {
              "outlinewidth": 0,
              "ticks": ""
             }
            },
            "type": "parcoords"
           }
          ],
          "pie": [
           {
            "automargin": true,
            "type": "pie"
           }
          ],
          "scatter": [
           {
            "fillpattern": {
             "fillmode": "overlay",
             "size": 10,
             "solidity": 0.2
            },
            "type": "scatter"
           }
          ],
          "scatter3d": [
           {
            "line": {
             "colorbar": {
              "outlinewidth": 0,
              "ticks": ""
             }
            },
            "marker": {
             "colorbar": {
              "outlinewidth": 0,
              "ticks": ""
             }
            },
            "type": "scatter3d"
           }
          ],
          "scattercarpet": [
           {
            "marker": {
             "colorbar": {
              "outlinewidth": 0,
              "ticks": ""
             }
            },
            "type": "scattercarpet"
           }
          ],
          "scattergeo": [
           {
            "marker": {
             "colorbar": {
              "outlinewidth": 0,
              "ticks": ""
             }
            },
            "type": "scattergeo"
           }
          ],
          "scattergl": [
           {
            "marker": {
             "colorbar": {
              "outlinewidth": 0,
              "ticks": ""
             }
            },
            "type": "scattergl"
           }
          ],
          "scattermapbox": [
           {
            "marker": {
             "colorbar": {
              "outlinewidth": 0,
              "ticks": ""
             }
            },
            "type": "scattermapbox"
           }
          ],
          "scatterpolar": [
           {
            "marker": {
             "colorbar": {
              "outlinewidth": 0,
              "ticks": ""
             }
            },
            "type": "scatterpolar"
           }
          ],
          "scatterpolargl": [
           {
            "marker": {
             "colorbar": {
              "outlinewidth": 0,
              "ticks": ""
             }
            },
            "type": "scatterpolargl"
           }
          ],
          "scatterternary": [
           {
            "marker": {
             "colorbar": {
              "outlinewidth": 0,
              "ticks": ""
             }
            },
            "type": "scatterternary"
           }
          ],
          "surface": [
           {
            "colorbar": {
             "outlinewidth": 0,
             "ticks": ""
            },
            "colorscale": [
             [
              0,
              "#0d0887"
             ],
             [
              0.1111111111111111,
              "#46039f"
             ],
             [
              0.2222222222222222,
              "#7201a8"
             ],
             [
              0.3333333333333333,
              "#9c179e"
             ],
             [
              0.4444444444444444,
              "#bd3786"
             ],
             [
              0.5555555555555556,
              "#d8576b"
             ],
             [
              0.6666666666666666,
              "#ed7953"
             ],
             [
              0.7777777777777778,
              "#fb9f3a"
             ],
             [
              0.8888888888888888,
              "#fdca26"
             ],
             [
              1,
              "#f0f921"
             ]
            ],
            "type": "surface"
           }
          ],
          "table": [
           {
            "cells": {
             "fill": {
              "color": "#EBF0F8"
             },
             "line": {
              "color": "white"
             }
            },
            "header": {
             "fill": {
              "color": "#C8D4E3"
             },
             "line": {
              "color": "white"
             }
            },
            "type": "table"
           }
          ]
         },
         "layout": {
          "annotationdefaults": {
           "arrowcolor": "#2a3f5f",
           "arrowhead": 0,
           "arrowwidth": 1
          },
          "autotypenumbers": "strict",
          "coloraxis": {
           "colorbar": {
            "outlinewidth": 0,
            "ticks": ""
           }
          },
          "colorscale": {
           "diverging": [
            [
             0,
             "#8e0152"
            ],
            [
             0.1,
             "#c51b7d"
            ],
            [
             0.2,
             "#de77ae"
            ],
            [
             0.3,
             "#f1b6da"
            ],
            [
             0.4,
             "#fde0ef"
            ],
            [
             0.5,
             "#f7f7f7"
            ],
            [
             0.6,
             "#e6f5d0"
            ],
            [
             0.7,
             "#b8e186"
            ],
            [
             0.8,
             "#7fbc41"
            ],
            [
             0.9,
             "#4d9221"
            ],
            [
             1,
             "#276419"
            ]
           ],
           "sequential": [
            [
             0,
             "#0d0887"
            ],
            [
             0.1111111111111111,
             "#46039f"
            ],
            [
             0.2222222222222222,
             "#7201a8"
            ],
            [
             0.3333333333333333,
             "#9c179e"
            ],
            [
             0.4444444444444444,
             "#bd3786"
            ],
            [
             0.5555555555555556,
             "#d8576b"
            ],
            [
             0.6666666666666666,
             "#ed7953"
            ],
            [
             0.7777777777777778,
             "#fb9f3a"
            ],
            [
             0.8888888888888888,
             "#fdca26"
            ],
            [
             1,
             "#f0f921"
            ]
           ],
           "sequentialminus": [
            [
             0,
             "#0d0887"
            ],
            [
             0.1111111111111111,
             "#46039f"
            ],
            [
             0.2222222222222222,
             "#7201a8"
            ],
            [
             0.3333333333333333,
             "#9c179e"
            ],
            [
             0.4444444444444444,
             "#bd3786"
            ],
            [
             0.5555555555555556,
             "#d8576b"
            ],
            [
             0.6666666666666666,
             "#ed7953"
            ],
            [
             0.7777777777777778,
             "#fb9f3a"
            ],
            [
             0.8888888888888888,
             "#fdca26"
            ],
            [
             1,
             "#f0f921"
            ]
           ]
          },
          "colorway": [
           "#636efa",
           "#EF553B",
           "#00cc96",
           "#ab63fa",
           "#FFA15A",
           "#19d3f3",
           "#FF6692",
           "#B6E880",
           "#FF97FF",
           "#FECB52"
          ],
          "font": {
           "color": "#2a3f5f"
          },
          "geo": {
           "bgcolor": "white",
           "lakecolor": "white",
           "landcolor": "#E5ECF6",
           "showlakes": true,
           "showland": true,
           "subunitcolor": "white"
          },
          "hoverlabel": {
           "align": "left"
          },
          "hovermode": "closest",
          "mapbox": {
           "style": "light"
          },
          "paper_bgcolor": "white",
          "plot_bgcolor": "#E5ECF6",
          "polar": {
           "angularaxis": {
            "gridcolor": "white",
            "linecolor": "white",
            "ticks": ""
           },
           "bgcolor": "#E5ECF6",
           "radialaxis": {
            "gridcolor": "white",
            "linecolor": "white",
            "ticks": ""
           }
          },
          "scene": {
           "xaxis": {
            "backgroundcolor": "#E5ECF6",
            "gridcolor": "white",
            "gridwidth": 2,
            "linecolor": "white",
            "showbackground": true,
            "ticks": "",
            "zerolinecolor": "white"
           },
           "yaxis": {
            "backgroundcolor": "#E5ECF6",
            "gridcolor": "white",
            "gridwidth": 2,
            "linecolor": "white",
            "showbackground": true,
            "ticks": "",
            "zerolinecolor": "white"
           },
           "zaxis": {
            "backgroundcolor": "#E5ECF6",
            "gridcolor": "white",
            "gridwidth": 2,
            "linecolor": "white",
            "showbackground": true,
            "ticks": "",
            "zerolinecolor": "white"
           }
          },
          "shapedefaults": {
           "line": {
            "color": "#2a3f5f"
           }
          },
          "ternary": {
           "aaxis": {
            "gridcolor": "white",
            "linecolor": "white",
            "ticks": ""
           },
           "baxis": {
            "gridcolor": "white",
            "linecolor": "white",
            "ticks": ""
           },
           "bgcolor": "#E5ECF6",
           "caxis": {
            "gridcolor": "white",
            "linecolor": "white",
            "ticks": ""
           }
          },
          "title": {
           "x": 0.05
          },
          "xaxis": {
           "automargin": true,
           "gridcolor": "white",
           "linecolor": "white",
           "ticks": "",
           "title": {
            "standoff": 15
           },
           "zerolinecolor": "white",
           "zerolinewidth": 2
          },
          "yaxis": {
           "automargin": true,
           "gridcolor": "white",
           "linecolor": "white",
           "ticks": "",
           "title": {
            "standoff": 15
           },
           "zerolinecolor": "white",
           "zerolinewidth": 2
          }
         }
        },
        "title": {
         "text": "Distribution des variables"
        },
        "width": 800,
        "xaxis": {
         "anchor": "y",
         "domain": [
          0,
          0.2888888888888889
         ]
        },
        "xaxis2": {
         "anchor": "y2",
         "domain": [
          0.35555555555555557,
          0.6444444444444445
         ]
        },
        "xaxis3": {
         "anchor": "y3",
         "domain": [
          0.7111111111111111,
          1
         ]
        },
        "xaxis4": {
         "anchor": "y4",
         "domain": [
          0,
          0.2888888888888889
         ]
        },
        "xaxis5": {
         "anchor": "y5",
         "domain": [
          0.35555555555555557,
          0.6444444444444445
         ]
        },
        "xaxis6": {
         "anchor": "y6",
         "domain": [
          0.7111111111111111,
          1
         ]
        },
        "yaxis": {
         "anchor": "x",
         "domain": [
          0.625,
          1
         ]
        },
        "yaxis2": {
         "anchor": "x2",
         "domain": [
          0.625,
          1
         ]
        },
        "yaxis3": {
         "anchor": "x3",
         "domain": [
          0.625,
          1
         ]
        },
        "yaxis4": {
         "anchor": "x4",
         "domain": [
          0,
          0.375
         ]
        },
        "yaxis5": {
         "anchor": "x5",
         "domain": [
          0,
          0.375
         ]
        },
        "yaxis6": {
         "anchor": "x6",
         "domain": [
          0,
          0.375
         ]
        }
       }
      }
     },
     "metadata": {},
     "output_type": "display_data"
    }
   ],
   "source": [
    "from plotly.subplots import make_subplots\n",
    "\n",
    "# Créer une figure avec une grille de 2x3\n",
    "fig = make_subplots(rows=2, cols=3, subplot_titles=('Temperature', 'Fuel Price', 'CPI', 'Unemployment'))\n",
    "\n",
    "# Ajouter les boîtes à moustaches à la figure\n",
    "fig.add_trace(go.Box(y=df['Temperature'], name='Temperature'), row=1, col=1)\n",
    "fig.add_trace(go.Box(y=df['Fuel_Price'], name='Fuel Price'), row=1, col=2)\n",
    "fig.add_trace(go.Box(y=df['CPI'], name='CPI'), row=1, col=3)\n",
    "fig.add_trace(go.Box(y=df['Unemployment'], name='Unemployment'), row=2, col=1)\n",
    "\n",
    "# Mise en page\n",
    "fig.update_layout(height=600, width=800, title_text=\"Distribution des variables\")\n",
    "\n",
    "# Afficher la figure\n",
    "fig.show()"
   ]
  },
  {
   "cell_type": "code",
   "execution_count": 21,
   "metadata": {},
   "outputs": [],
   "source": [
    "columns_outlied = ['Temperature', 'Fuel_Price', 'CPI', 'Unemployment']"
   ]
  },
  {
   "cell_type": "code",
   "execution_count": 22,
   "metadata": {},
   "outputs": [
    {
     "data": {
      "image/png": "[encoded data removed]",
      "text/plain": [
       "<Figure size 800x400 with 1 Axes>"
      ]
     },
     "metadata": {},
     "output_type": "display_data"
    },
    {
     "data": {
      "image/png": "[encoded data removed]",
      "text/plain": [
       "<Figure size 800x400 with 1 Axes>"
      ]
     },
     "metadata": {},
     "output_type": "display_data"
    },
    {
     "data": {
      "image/png": "[encoded data removed]",
      "text/plain": [
       "<Figure size 800x400 with 1 Axes>"
      ]
     },
     "metadata": {},
     "output_type": "display_data"
    },
    {
     "data": {
      "image/png": "[encoded data removed]",
      "text/plain": [
       "<Figure size 800x400 with 1 Axes>"
      ]
     },
     "metadata": {},
     "output_type": "display_data"
    }
   ],
   "source": [
    "import seaborn as sns\n",
    "\n",
    "# Colonnes à vérifier\n",
    "columns_outlied = ['Temperature', 'Fuel_Price', 'CPI', 'Unemployment']\n",
    "\n",
    "# Tracer la distribution pour chaque colonne\n",
    "for col in columns_outlied:\n",
    "    plt.figure(figsize=(8, 4))\n",
    "    sns.histplot(df_sumsales[col], kde=True, bins=30)\n",
    "    plt.title(f'Distribution de {col}', fontsize=14)\n",
    "    plt.xlabel(col)\n",
    "    plt.ylabel(\"Fréquence\")\n",
    "    plt.grid(True)\n",
    "    plt.show()"
   ]
  },
  {
   "cell_type": "code",
   "execution_count": 23,
   "metadata": {},
   "outputs": [
    {
     "name": "stdout",
     "output_type": "stream",
     "text": [
      "Nombre de lignes supprimées : 5, 131 lignes restantes\n"
     ]
    }
   ],
   "source": [
    "#traitement des outliers sur Unemployment uniquement avec la méthode IQR (Interquartile Range)\n",
    "# Calculer le premier et le troisième quartile\n",
    "q1 = df_sumsales['Unemployment'].quantile(0.25)\n",
    "q3 = df_sumsales['Unemployment'].quantile(0.75)\n",
    "iqr = q3 - q1\n",
    "\n",
    "# Définir les limites inférieure et supérieure\n",
    "lower_bound = q1 - 1.5 * iqr\n",
    "upper_bound = q3 + 1.5 * iqr\n",
    "\n",
    "# Filtrer les valeurs aberrantes\n",
    "df_no_outliers = df_sumsales[(df_sumsales['Unemployment'] >= lower_bound) & (df_sumsales['Unemployment'] <= upper_bound)].copy()\n",
    "\n",
    "# Nombre de lignes supprimées\n",
    "removed_rows = df_sumsales.shape[0] - df_no_outliers.shape[0]\n",
    "print(f\"Nombre de lignes supprimées : {removed_rows}, {df_no_outliers.shape[0]} lignes restantes\")"
   ]
  },
  {
   "cell_type": "code",
   "execution_count": 24,
   "metadata": {},
   "outputs": [
    {
     "data": {
      "image/png": "[encoded data removed]",
      "text/plain": [
       "<Figure size 800x400 with 1 Axes>"
      ]
     },
     "metadata": {},
     "output_type": "display_data"
    }
   ],
   "source": [
    "# Tracer la distribution pour chaque colonne\n",
    "plt.figure(figsize=(8, 4))\n",
    "sns.histplot(df_no_outliers['Unemployment'], kde=True, bins=30)\n",
    "plt.title(f'Distribution de Unemployment', fontsize=14)\n",
    "plt.ylabel(\"Fréquence\")\n",
    "plt.grid(True)\n",
    "plt.show()"
   ]
  },
  {
   "cell_type": "code",
   "execution_count": 25,
   "metadata": {},
   "outputs": [],
   "source": [
    "#df_no_outliers.to_csv('Walmart_Store_sales_cleaned.csv', index=False)"
   ]
  },
  {
   "cell_type": "code",
   "execution_count": 26,
   "metadata": {},
   "outputs": [
    {
     "data": {
      "image/png": "[encoded data removed]",
      "text/plain": [
       "<Figure size 1000x800 with 2 Axes>"
      ]
     },
     "metadata": {},
     "output_type": "display_data"
    }
   ],
   "source": [
    "#matrice de corrélation\n",
    "correlation_matrix = df_no_outliers.corr()\n",
    "\n",
    "#traçage de la heatmap\n",
    "plt.figure(figsize=(10, 8))\n",
    "sns.heatmap(correlation_matrix, annot=True, cmap='coolwarm', fmt='.2f', square=True, cbar_kws={\"shrink\": .8})\n",
    "plt.title('Matrice de Corrélation', fontsize=16)\n",
    "plt.show()"
   ]
  },
  {
   "cell_type": "code",
   "execution_count": 27,
   "metadata": {},
   "outputs": [
    {
     "data": {
      "image/png": "[encoded data removed]",
      "text/plain": [
       "<Figure size 1000x600 with 1 Axes>"
      ]
     },
     "metadata": {},
     "output_type": "display_data"
    },
    {
     "data": {
      "image/png": "[encoded data removed]",
      "text/plain": [
       "<Figure size 1000x600 with 1 Axes>"
      ]
     },
     "metadata": {},
     "output_type": "display_data"
    },
    {
     "data": {
      "image/png": "[encoded data removed]",
      "text/plain": [
       "<Figure size 1000x600 with 1 Axes>"
      ]
     },
     "metadata": {},
     "output_type": "display_data"
    },
    {
     "data": {
      "image/png": "[encoded data removed]",
      "text/plain": [
       "<Figure size 1000x600 with 1 Axes>"
      ]
     },
     "metadata": {},
     "output_type": "display_data"
    }
   ],
   "source": [
    "variables_to_plot = ['Temperature', 'Fuel_Price', 'CPI', 'Unemployment']\n",
    "\n",
    "for var in variables_to_plot:\n",
    "    plt.figure(figsize=(10,6))\n",
    "    sns.scatterplot(data=df_no_outliers, x=var, y='Weekly_Sales', alpha=0.6)\n",
    "    plt.title(f'Weekly Sales vs {var}', fontsize=16)\n",
    "    plt.xlabel(var, fontsize=14)\n",
    "    plt.ylabel('Weekly Sales', fontsize=14)\n",
    "    plt.grid(True)\n",
    "    plt.show()"
   ]
  },
  {
   "cell_type": "code",
   "execution_count": 28,
   "metadata": {},
   "outputs": [
    {
     "data": {
      "image/png": "[encoded data removed]",
      "text/plain": [
       "<Figure size 1000x600 with 1 Axes>"
      ]
     },
     "metadata": {},
     "output_type": "display_data"
    }
   ],
   "source": [
    "sales_by_month = df_no_outliers.groupby('Month')['Weekly_Sales'].mean()\n",
    "#sales_by_month['Month'] = sales_by_month['Month'].astype(str)  # Convertir en chaîne pour l'affichage\n",
    "\n",
    "plt.figure(figsize=(10, 6))\n",
    "sales_by_month.plot(kind='bar')\n",
    "plt.title('Ventes moyennes par mois', fontsize=16)\n",
    "plt.xlabel('Mois')\n",
    "plt.ylabel('Ventes moyennes ($)')\n",
    "plt.xticks(ticks=range(0,12), labels=['Jan', 'Feb', 'Mar', 'Apr', 'May', 'Jun', 'Jul', 'Aug', 'Sep', 'Oct', 'Nov', 'Dec'], rotation=45)\n",
    "plt.grid(axis='y')\n",
    "plt.show()"
   ]
  },
  {
   "cell_type": "markdown",
   "metadata": {},
   "source": [
    "**PREPROCESSING NUMERICAL AND CATEGORICAL**"
   ]
  },
  {
   "cell_type": "markdown",
   "metadata": {},
   "source": [
    " - Categorical variables : Store, Holiday_Flag\n",
    " - Numerical variables : Temperature, Fuel_Price, CPI, Unemployment, Year, Month, Day, DayOfWeek"
   ]
  },
  {
   "cell_type": "code",
   "execution_count": 29,
   "metadata": {},
   "outputs": [],
   "source": [
    "from sklearn.preprocessing import StandardScaler, OneHotEncoder\n",
    "from sklearn.compose import ColumnTransformer\n",
    "from sklearn.impute import SimpleImputer\n",
    "from sklearn.pipeline import Pipeline\n",
    "from sklearn.model_selection import train_test_split\n",
    "\n",
    "from sklearn.linear_model import LinearRegression\n",
    "from sklearn.metrics import mean_squared_error, r2_score\n",
    "from sklearn.pipeline import Pipeline"
   ]
  },
  {
   "cell_type": "code",
   "execution_count": 30,
   "metadata": {},
   "outputs": [
    {
     "data": {
      "text/plain": [
       "Index(['Store', 'Date', 'Weekly_Sales', 'Holiday_Flag', 'Temperature',\n",
       "       'Fuel_Price', 'CPI', 'Unemployment', 'Year', 'Month', 'Week'],\n",
       "      dtype='object')"
      ]
     },
     "execution_count": 30,
     "metadata": {},
     "output_type": "execute_result"
    }
   ],
   "source": [
    "df_no_outliers.columns"
   ]
  },
  {
   "cell_type": "code",
   "execution_count": 31,
   "metadata": {},
   "outputs": [
    {
     "name": "stdout",
     "output_type": "stream",
     "text": [
      "(131, 7) (131,)\n",
      "     Store  Holiday_Flag  Temperature         CPI  Unemployment    Year  Month\n",
      "67     3.0           0.0    45.710000  214.424881      7.368000  2010.0    2.0\n",
      "44     1.0           1.0    38.510000  211.242170      8.106000  2010.0    2.0\n",
      "107    8.0           1.0    33.340000  214.621419      6.299000  2010.0    2.0\n",
      "112    2.0           0.0    39.690000  210.945160      7.196667  2010.0    2.0\n",
      "115   15.0           0.0    61.398106  131.637000      8.094333  2010.0    2.0\n",
      "----------------------------------------------------------------------------------------------------------------------------------------------------------------------------------------------------------------------------------------------------------\n",
      "67      461622.22\n",
      "44     1641957.44\n",
      "107     994801.40\n",
      "112    2124451.54\n",
      "115     660838.75\n",
      "Name: Weekly_Sales, dtype: float64\n"
     ]
    }
   ],
   "source": [
    "#On définit les variables explicatives\n",
    "X = df_no_outliers[['Store', 'Holiday_Flag', 'Temperature', 'CPI', 'Unemployment', 'Year', 'Month']]\n",
    "\n",
    "y = df_no_outliers['Weekly_Sales']\n",
    "\n",
    "print(X.shape, y.shape)\n",
    "print(X.head())\n",
    "print('-----'*50)\n",
    "print(y.head())"
   ]
  },
  {
   "cell_type": "code",
   "execution_count": 32,
   "metadata": {},
   "outputs": [
    {
     "name": "stdout",
     "output_type": "stream",
     "text": [
      "(104, 7) (27, 7)\n"
     ]
    }
   ],
   "source": [
    "X_train, X_test, y_train, y_test = train_test_split(X, y, test_size=0.2, random_state=42)\n",
    "print(X_train.shape, X_test.shape)"
   ]
  },
  {
   "cell_type": "code",
   "execution_count": 33,
   "metadata": {},
   "outputs": [
    {
     "data": {
      "text/html": [
       "<div>\n",
       "<style scoped>\n",
       "    .dataframe tbody tr th:only-of-type {\n",
       "        vertical-align: middle;\n",
       "    }\n",
       "\n",
       "    .dataframe tbody tr th {\n",
       "        vertical-align: top;\n",
       "    }\n",
       "\n",
       "    .dataframe thead th {\n",
       "        text-align: right;\n",
       "    }\n",
       "</style>\n",
       "<table border=\"1\" class=\"dataframe\">\n",
       "  <thead>\n",
       "    <tr style=\"text-align: right;\">\n",
       "      <th></th>\n",
       "      <th>Store</th>\n",
       "      <th>Holiday_Flag</th>\n",
       "      <th>Temperature</th>\n",
       "      <th>CPI</th>\n",
       "      <th>Unemployment</th>\n",
       "      <th>Year</th>\n",
       "      <th>Month</th>\n",
       "    </tr>\n",
       "  </thead>\n",
       "  <tbody>\n",
       "    <tr>\n",
       "      <th>39</th>\n",
       "      <td>5.0</td>\n",
       "      <td>0.0</td>\n",
       "      <td>60.710000</td>\n",
       "      <td>218.569962</td>\n",
       "      <td>6.300</td>\n",
       "      <td>2011.0</td>\n",
       "      <td>11.0</td>\n",
       "    </tr>\n",
       "    <tr>\n",
       "      <th>70</th>\n",
       "      <td>18.0</td>\n",
       "      <td>0.0</td>\n",
       "      <td>27.400000</td>\n",
       "      <td>126.850789</td>\n",
       "      <td>9.331</td>\n",
       "      <td>2010.0</td>\n",
       "      <td>12.0</td>\n",
       "    </tr>\n",
       "    <tr>\n",
       "      <th>67</th>\n",
       "      <td>3.0</td>\n",
       "      <td>0.0</td>\n",
       "      <td>45.710000</td>\n",
       "      <td>214.424881</td>\n",
       "      <td>7.368</td>\n",
       "      <td>2010.0</td>\n",
       "      <td>2.0</td>\n",
       "    </tr>\n",
       "    <tr>\n",
       "      <th>95</th>\n",
       "      <td>1.0</td>\n",
       "      <td>0.0</td>\n",
       "      <td>74.780000</td>\n",
       "      <td>210.337426</td>\n",
       "      <td>7.808</td>\n",
       "      <td>2010.0</td>\n",
       "      <td>5.0</td>\n",
       "    </tr>\n",
       "    <tr>\n",
       "      <th>80</th>\n",
       "      <td>9.0</td>\n",
       "      <td>0.0</td>\n",
       "      <td>49.960000</td>\n",
       "      <td>215.437285</td>\n",
       "      <td>6.560</td>\n",
       "      <td>2010.0</td>\n",
       "      <td>11.0</td>\n",
       "    </tr>\n",
       "    <tr>\n",
       "      <th>...</th>\n",
       "      <td>...</td>\n",
       "      <td>...</td>\n",
       "      <td>...</td>\n",
       "      <td>...</td>\n",
       "      <td>...</td>\n",
       "      <td>...</td>\n",
       "      <td>...</td>\n",
       "    </tr>\n",
       "    <tr>\n",
       "      <th>148</th>\n",
       "      <td>8.0</td>\n",
       "      <td>0.0</td>\n",
       "      <td>86.050000</td>\n",
       "      <td>219.007525</td>\n",
       "      <td>9.964</td>\n",
       "      <td>2011.0</td>\n",
       "      <td>8.0</td>\n",
       "    </tr>\n",
       "    <tr>\n",
       "      <th>122</th>\n",
       "      <td>7.0</td>\n",
       "      <td>1.0</td>\n",
       "      <td>57.840000</td>\n",
       "      <td>198.095048</td>\n",
       "      <td>7.872</td>\n",
       "      <td>2012.0</td>\n",
       "      <td>9.0</td>\n",
       "    </tr>\n",
       "    <tr>\n",
       "      <th>5</th>\n",
       "      <td>4.0</td>\n",
       "      <td>0.0</td>\n",
       "      <td>61.398106</td>\n",
       "      <td>126.160226</td>\n",
       "      <td>7.896</td>\n",
       "      <td>2010.0</td>\n",
       "      <td>5.0</td>\n",
       "    </tr>\n",
       "    <tr>\n",
       "      <th>13</th>\n",
       "      <td>1.0</td>\n",
       "      <td>0.0</td>\n",
       "      <td>64.740000</td>\n",
       "      <td>221.211813</td>\n",
       "      <td>7.348</td>\n",
       "      <td>2012.0</td>\n",
       "      <td>3.0</td>\n",
       "    </tr>\n",
       "    <tr>\n",
       "      <th>50</th>\n",
       "      <td>13.0</td>\n",
       "      <td>0.0</td>\n",
       "      <td>61.110000</td>\n",
       "      <td>130.959226</td>\n",
       "      <td>5.965</td>\n",
       "      <td>2012.0</td>\n",
       "      <td>6.0</td>\n",
       "    </tr>\n",
       "  </tbody>\n",
       "</table>\n",
       "<p>104 rows × 7 columns</p>\n",
       "</div>"
      ],
      "text/plain": [
       "     Store  Holiday_Flag  Temperature         CPI  Unemployment    Year  Month\n",
       "39     5.0           0.0    60.710000  218.569962         6.300  2011.0   11.0\n",
       "70    18.0           0.0    27.400000  126.850789         9.331  2010.0   12.0\n",
       "67     3.0           0.0    45.710000  214.424881         7.368  2010.0    2.0\n",
       "95     1.0           0.0    74.780000  210.337426         7.808  2010.0    5.0\n",
       "80     9.0           0.0    49.960000  215.437285         6.560  2010.0   11.0\n",
       "..     ...           ...          ...         ...           ...     ...    ...\n",
       "148    8.0           0.0    86.050000  219.007525         9.964  2011.0    8.0\n",
       "122    7.0           1.0    57.840000  198.095048         7.872  2012.0    9.0\n",
       "5      4.0           0.0    61.398106  126.160226         7.896  2010.0    5.0\n",
       "13     1.0           0.0    64.740000  221.211813         7.348  2012.0    3.0\n",
       "50    13.0           0.0    61.110000  130.959226         5.965  2012.0    6.0\n",
       "\n",
       "[104 rows x 7 columns]"
      ]
     },
     "execution_count": 33,
     "metadata": {},
     "output_type": "execute_result"
    }
   ],
   "source": [
    "X_train"
   ]
  },
  {
   "cell_type": "code",
   "execution_count": 34,
   "metadata": {},
   "outputs": [],
   "source": [
    "    #Variables catégorielles et numériques\n",
    "categorical_features = ['Store', 'Holiday_Flag']\n",
    "numerical_features = ['Temperature', 'CPI', 'Unemployment', 'Year', 'Month']\n",
    "\n",
    "#pas de valeur manquante dans les variables explicatives donc on passe directement à la normalisation\n",
    "\n",
    "categorical_transformer = OneHotEncoder(handle_unknown='ignore')\n",
    "numerical_transformer = Pipeline(steps=[\n",
    "    ('imputer', SimpleImputer(strategy='mean')),\n",
    "    ('scaler', StandardScaler())\n",
    "])\n",
    "\n",
    "#Assemblage avec ColumnTransformer\n",
    "preprocessor = ColumnTransformer(\n",
    "    transformers=[\n",
    "        ('num', numerical_transformer, numerical_features),\n",
    "        ('cat', categorical_transformer, categorical_features)\n",
    "    ]\n",
    ")"
   ]
  },
  {
   "cell_type": "code",
   "execution_count": 35,
   "metadata": {},
   "outputs": [
    {
     "name": "stdout",
     "output_type": "stream",
     "text": [
      "Nombre total de features après transformation : 26\n"
     ]
    },
    {
     "data": {
      "text/html": [
       "<div>\n",
       "<style scoped>\n",
       "    .dataframe tbody tr th:only-of-type {\n",
       "        vertical-align: middle;\n",
       "    }\n",
       "\n",
       "    .dataframe tbody tr th {\n",
       "        vertical-align: top;\n",
       "    }\n",
       "\n",
       "    .dataframe thead th {\n",
       "        text-align: right;\n",
       "    }\n",
       "</style>\n",
       "<table border=\"1\" class=\"dataframe\">\n",
       "  <thead>\n",
       "    <tr style=\"text-align: right;\">\n",
       "      <th></th>\n",
       "      <th>Temperature</th>\n",
       "      <th>CPI</th>\n",
       "      <th>Unemployment</th>\n",
       "      <th>Year</th>\n",
       "      <th>Month</th>\n",
       "      <th>Store_1.0</th>\n",
       "      <th>Store_2.0</th>\n",
       "      <th>Store_3.0</th>\n",
       "      <th>Store_4.0</th>\n",
       "      <th>Store_5.0</th>\n",
       "      <th>...</th>\n",
       "      <th>Store_13.0</th>\n",
       "      <th>Store_14.0</th>\n",
       "      <th>Store_15.0</th>\n",
       "      <th>Store_16.0</th>\n",
       "      <th>Store_17.0</th>\n",
       "      <th>Store_18.0</th>\n",
       "      <th>Store_19.0</th>\n",
       "      <th>Store_20.0</th>\n",
       "      <th>Holiday_Flag_0.0</th>\n",
       "      <th>Holiday_Flag_1.0</th>\n",
       "    </tr>\n",
       "  </thead>\n",
       "  <tbody>\n",
       "    <tr>\n",
       "      <th>0</th>\n",
       "      <td>0.062060</td>\n",
       "      <td>0.948452</td>\n",
       "      <td>-1.211758</td>\n",
       "      <td>0.207449</td>\n",
       "      <td>1.603776</td>\n",
       "      <td>0.0</td>\n",
       "      <td>0.0</td>\n",
       "      <td>0.0</td>\n",
       "      <td>0.0</td>\n",
       "      <td>1.0</td>\n",
       "      <td>...</td>\n",
       "      <td>0.0</td>\n",
       "      <td>0.0</td>\n",
       "      <td>0.0</td>\n",
       "      <td>0.0</td>\n",
       "      <td>0.0</td>\n",
       "      <td>0.0</td>\n",
       "      <td>0.0</td>\n",
       "      <td>0.0</td>\n",
       "      <td>1.0</td>\n",
       "      <td>0.0</td>\n",
       "    </tr>\n",
       "    <tr>\n",
       "      <th>1</th>\n",
       "      <td>-1.840845</td>\n",
       "      <td>-1.401086</td>\n",
       "      <td>1.901917</td>\n",
       "      <td>-1.111336</td>\n",
       "      <td>1.942013</td>\n",
       "      <td>0.0</td>\n",
       "      <td>0.0</td>\n",
       "      <td>0.0</td>\n",
       "      <td>0.0</td>\n",
       "      <td>0.0</td>\n",
       "      <td>...</td>\n",
       "      <td>0.0</td>\n",
       "      <td>0.0</td>\n",
       "      <td>0.0</td>\n",
       "      <td>0.0</td>\n",
       "      <td>0.0</td>\n",
       "      <td>1.0</td>\n",
       "      <td>0.0</td>\n",
       "      <td>0.0</td>\n",
       "      <td>1.0</td>\n",
       "      <td>0.0</td>\n",
       "    </tr>\n",
       "    <tr>\n",
       "      <th>2</th>\n",
       "      <td>-0.794847</td>\n",
       "      <td>0.842269</td>\n",
       "      <td>-0.114627</td>\n",
       "      <td>-1.111336</td>\n",
       "      <td>-1.440358</td>\n",
       "      <td>0.0</td>\n",
       "      <td>0.0</td>\n",
       "      <td>1.0</td>\n",
       "      <td>0.0</td>\n",
       "      <td>0.0</td>\n",
       "      <td>...</td>\n",
       "      <td>0.0</td>\n",
       "      <td>0.0</td>\n",
       "      <td>0.0</td>\n",
       "      <td>0.0</td>\n",
       "      <td>0.0</td>\n",
       "      <td>0.0</td>\n",
       "      <td>0.0</td>\n",
       "      <td>0.0</td>\n",
       "      <td>1.0</td>\n",
       "      <td>0.0</td>\n",
       "    </tr>\n",
       "    <tr>\n",
       "      <th>3</th>\n",
       "      <td>0.865839</td>\n",
       "      <td>0.737562</td>\n",
       "      <td>0.337375</td>\n",
       "      <td>-1.111336</td>\n",
       "      <td>-0.425647</td>\n",
       "      <td>1.0</td>\n",
       "      <td>0.0</td>\n",
       "      <td>0.0</td>\n",
       "      <td>0.0</td>\n",
       "      <td>0.0</td>\n",
       "      <td>...</td>\n",
       "      <td>0.0</td>\n",
       "      <td>0.0</td>\n",
       "      <td>0.0</td>\n",
       "      <td>0.0</td>\n",
       "      <td>0.0</td>\n",
       "      <td>0.0</td>\n",
       "      <td>0.0</td>\n",
       "      <td>0.0</td>\n",
       "      <td>1.0</td>\n",
       "      <td>0.0</td>\n",
       "    </tr>\n",
       "    <tr>\n",
       "      <th>4</th>\n",
       "      <td>-0.552057</td>\n",
       "      <td>0.868204</td>\n",
       "      <td>-0.944666</td>\n",
       "      <td>-1.111336</td>\n",
       "      <td>1.603776</td>\n",
       "      <td>0.0</td>\n",
       "      <td>0.0</td>\n",
       "      <td>0.0</td>\n",
       "      <td>0.0</td>\n",
       "      <td>0.0</td>\n",
       "      <td>...</td>\n",
       "      <td>0.0</td>\n",
       "      <td>0.0</td>\n",
       "      <td>0.0</td>\n",
       "      <td>0.0</td>\n",
       "      <td>0.0</td>\n",
       "      <td>0.0</td>\n",
       "      <td>0.0</td>\n",
       "      <td>0.0</td>\n",
       "      <td>1.0</td>\n",
       "      <td>0.0</td>\n",
       "    </tr>\n",
       "  </tbody>\n",
       "</table>\n",
       "<p>5 rows × 26 columns</p>\n",
       "</div>"
      ],
      "text/plain": [
       "   Temperature       CPI  Unemployment      Year     Month  Store_1.0  \\\n",
       "0     0.062060  0.948452     -1.211758  0.207449  1.603776        0.0   \n",
       "1    -1.840845 -1.401086      1.901917 -1.111336  1.942013        0.0   \n",
       "2    -0.794847  0.842269     -0.114627 -1.111336 -1.440358        0.0   \n",
       "3     0.865839  0.737562      0.337375 -1.111336 -0.425647        1.0   \n",
       "4    -0.552057  0.868204     -0.944666 -1.111336  1.603776        0.0   \n",
       "\n",
       "   Store_2.0  Store_3.0  Store_4.0  Store_5.0  ...  Store_13.0  Store_14.0  \\\n",
       "0        0.0        0.0        0.0        1.0  ...         0.0         0.0   \n",
       "1        0.0        0.0        0.0        0.0  ...         0.0         0.0   \n",
       "2        0.0        1.0        0.0        0.0  ...         0.0         0.0   \n",
       "3        0.0        0.0        0.0        0.0  ...         0.0         0.0   \n",
       "4        0.0        0.0        0.0        0.0  ...         0.0         0.0   \n",
       "\n",
       "   Store_15.0  Store_16.0  Store_17.0  Store_18.0  Store_19.0  Store_20.0  \\\n",
       "0         0.0         0.0         0.0         0.0         0.0         0.0   \n",
       "1         0.0         0.0         0.0         1.0         0.0         0.0   \n",
       "2         0.0         0.0         0.0         0.0         0.0         0.0   \n",
       "3         0.0         0.0         0.0         0.0         0.0         0.0   \n",
       "4         0.0         0.0         0.0         0.0         0.0         0.0   \n",
       "\n",
       "   Holiday_Flag_0.0  Holiday_Flag_1.0  \n",
       "0               1.0               0.0  \n",
       "1               1.0               0.0  \n",
       "2               1.0               0.0  \n",
       "3               1.0               0.0  \n",
       "4               1.0               0.0  \n",
       "\n",
       "[5 rows x 26 columns]"
      ]
     },
     "execution_count": 35,
     "metadata": {},
     "output_type": "execute_result"
    }
   ],
   "source": [
    "preprocessor.fit(X_train, y_train)\n",
    "# Étape 2 : récupérer les noms des colonnes encodées\n",
    "# Pour les numériques, pas besoin de get_feature_names_out si on connaît déjà les noms\n",
    "num_cols_transformed = numerical_features\n",
    "\n",
    "# Pour les catégorielles encodées\n",
    "cat_encoder = preprocessor.named_transformers_['cat']\n",
    "cat_cols_transformed = cat_encoder.get_feature_names_out(categorical_features)\n",
    "\n",
    "# Étape 3 : concaténer tous les noms de colonnes finales\n",
    "final_feature_names = list(num_cols_transformed) + list(cat_cols_transformed)\n",
    "\n",
    "# Étape 4 : transformer les données et en faire un DataFrame\n",
    "X_train_transformed = preprocessor.transform(X_train)\n",
    "X_train_df = pd.DataFrame(X_train_transformed.toarray() if hasattr(X_train_transformed, \"toarray\") else X_train_transformed,\n",
    "                          columns=final_feature_names)\n",
    "\n",
    "# Afficher un aperçu\n",
    "print(f\"Nombre total de features après transformation : {X_train_df.shape[1]}\")\n",
    "X_train_df.head()"
   ]
  },
  {
   "cell_type": "markdown",
   "metadata": {},
   "source": [
    "**LINEAR REGRESSOR BASELINE**"
   ]
  },
  {
   "cell_type": "code",
   "execution_count": 36,
   "metadata": {},
   "outputs": [],
   "source": [
    "model_lr_pipeline = Pipeline(steps=[\n",
    "    ('preprocessing', preprocessor),\n",
    "    ('regressor', LinearRegression())\n",
    "])"
   ]
  },
  {
   "cell_type": "code",
   "execution_count": 37,
   "metadata": {},
   "outputs": [
    {
     "data": {
      "text/html": [
       "<style>#sk-container-id-1 {\n",
       "  /* Definition of color scheme common for light and dark mode */\n",
       "  --sklearn-color-text: #000;\n",
       "  --sklearn-color-text-muted: #666;\n",
       "  --sklearn-color-line: gray;\n",
       "  /* Definition of color scheme for unfitted estimators */\n",
       "  --sklearn-color-unfitted-level-0: #fff5e6;\n",
       "  --sklearn-color-unfitted-level-1: #f6e4d2;\n",
       "  --sklearn-color-unfitted-level-2: #ffe0b3;\n",
       "  --sklearn-color-unfitted-level-3: chocolate;\n",
       "  /* Definition of color scheme for fitted estimators */\n",
       "  --sklearn-color-fitted-level-0: #f0f8ff;\n",
       "  --sklearn-color-fitted-level-1: #d4ebff;\n",
       "  --sklearn-color-fitted-level-2: #b3dbfd;\n",
       "  --sklearn-color-fitted-level-3: cornflowerblue;\n",
       "\n",
       "  /* Specific color for light theme */\n",
       "  --sklearn-color-text-on-default-background: var(--sg-text-color, var(--theme-code-foreground, var(--jp-content-font-color1, black)));\n",
       "  --sklearn-color-background: var(--sg-background-color, var(--theme-background, var(--jp-layout-color0, white)));\n",
       "  --sklearn-color-border-box: var(--sg-text-color, var(--theme-code-foreground, var(--jp-content-font-color1, black)));\n",
       "  --sklearn-color-icon: #696969;\n",
       "\n",
       "  @media (prefers-color-scheme: dark) {\n",
       "    /* Redefinition of color scheme for dark theme */\n",
       "    --sklearn-color-text-on-default-background: var(--sg-text-color, var(--theme-code-foreground, var(--jp-content-font-color1, white)));\n",
       "    --sklearn-color-background: var(--sg-background-color, var(--theme-background, var(--jp-layout-color0, #111)));\n",
       "    --sklearn-color-border-box: var(--sg-text-color, var(--theme-code-foreground, var(--jp-content-font-color1, white)));\n",
       "    --sklearn-color-icon: #878787;\n",
       "  }\n",
       "}\n",
       "\n",
       "#sk-container-id-1 {\n",
       "  color: var(--sklearn-color-text);\n",
       "}\n",
       "\n",
       "#sk-container-id-1 pre {\n",
       "  padding: 0;\n",
       "}\n",
       "\n",
       "#sk-container-id-1 input.sk-hidden--visually {\n",
       "  border: 0;\n",
       "  clip: rect(1px 1px 1px 1px);\n",
       "  clip: rect(1px, 1px, 1px, 1px);\n",
       "  height: 1px;\n",
       "  margin: -1px;\n",
       "  overflow: hidden;\n",
       "  padding: 0;\n",
       "  position: absolute;\n",
       "  width: 1px;\n",
       "}\n",
       "\n",
       "#sk-container-id-1 div.sk-dashed-wrapped {\n",
       "  border: 1px dashed var(--sklearn-color-line);\n",
       "  margin: 0 0.4em 0.5em 0.4em;\n",
       "  box-sizing: border-box;\n",
       "  padding-bottom: 0.4em;\n",
       "  background-color: var(--sklearn-color-background);\n",
       "}\n",
       "\n",
       "#sk-container-id-1 div.sk-container {\n",
       "  /* jupyter's `normalize.less` sets `[hidden] { display: none; }`\n",
       "     but bootstrap.min.css set `[hidden] { display: none !important; }`\n",
       "     so we also need the `!important` here to be able to override the\n",
       "     default hidden behavior on the sphinx rendered scikit-learn.org.\n",
       "     See: https://github.com/scikit-learn/scikit-learn/issues/21755 */\n",
       "  display: inline-block !important;\n",
       "  position: relative;\n",
       "}\n",
       "\n",
       "#sk-container-id-1 div.sk-text-repr-fallback {\n",
       "  display: none;\n",
       "}\n",
       "\n",
       "div.sk-parallel-item,\n",
       "div.sk-serial,\n",
       "div.sk-item {\n",
       "  /* draw centered vertical line to link estimators */\n",
       "  background-image: linear-gradient(var(--sklearn-color-text-on-default-background), var(--sklearn-color-text-on-default-background));\n",
       "  background-size: 2px 100%;\n",
       "  background-repeat: no-repeat;\n",
       "  background-position: center center;\n",
       "}\n",
       "\n",
       "/* Parallel-specific style estimator block */\n",
       "\n",
       "#sk-container-id-1 div.sk-parallel-item::after {\n",
       "  content: \"\";\n",
       "  width: 100%;\n",
       "  border-bottom: 2px solid var(--sklearn-color-text-on-default-background);\n",
       "  flex-grow: 1;\n",
       "}\n",
       "\n",
       "#sk-container-id-1 div.sk-parallel {\n",
       "  display: flex;\n",
       "  align-items: stretch;\n",
       "  justify-content: center;\n",
       "  background-color: var(--sklearn-color-background);\n",
       "  position: relative;\n",
       "}\n",
       "\n",
       "#sk-container-id-1 div.sk-parallel-item {\n",
       "  display: flex;\n",
       "  flex-direction: column;\n",
       "}\n",
       "\n",
       "#sk-container-id-1 div.sk-parallel-item:first-child::after {\n",
       "  align-self: flex-end;\n",
       "  width: 50%;\n",
       "}\n",
       "\n",
       "#sk-container-id-1 div.sk-parallel-item:last-child::after {\n",
       "  align-self: flex-start;\n",
       "  width: 50%;\n",
       "}\n",
       "\n",
       "#sk-container-id-1 div.sk-parallel-item:only-child::after {\n",
       "  width: 0;\n",
       "}\n",
       "\n",
       "/* Serial-specific style estimator block */\n",
       "\n",
       "#sk-container-id-1 div.sk-serial {\n",
       "  display: flex;\n",
       "  flex-direction: column;\n",
       "  align-items: center;\n",
       "  background-color: var(--sklearn-color-background);\n",
       "  padding-right: 1em;\n",
       "  padding-left: 1em;\n",
       "}\n",
       "\n",
       "\n",
       "/* Toggleable style: style used for estimator/Pipeline/ColumnTransformer box that is\n",
       "clickable and can be expanded/collapsed.\n",
       "- Pipeline and ColumnTransformer use this feature and define the default style\n",
       "- Estimators will overwrite some part of the style using the `sk-estimator` class\n",
       "*/\n",
       "\n",
       "/* Pipeline and ColumnTransformer style (default) */\n",
       "\n",
       "#sk-container-id-1 div.sk-toggleable {\n",
       "  /* Default theme specific background. It is overwritten whether we have a\n",
       "  specific estimator or a Pipeline/ColumnTransformer */\n",
       "  background-color: var(--sklearn-color-background);\n",
       "}\n",
       "\n",
       "/* Toggleable label */\n",
       "#sk-container-id-1 label.sk-toggleable__label {\n",
       "  cursor: pointer;\n",
       "  display: flex;\n",
       "  width: 100%;\n",
       "  margin-bottom: 0;\n",
       "  padding: 0.5em;\n",
       "  box-sizing: border-box;\n",
       "  text-align: center;\n",
       "  align-items: start;\n",
       "  justify-content: space-between;\n",
       "  gap: 0.5em;\n",
       "}\n",
       "\n",
       "#sk-container-id-1 label.sk-toggleable__label .caption {\n",
       "  font-size: 0.6rem;\n",
       "  font-weight: lighter;\n",
       "  color: var(--sklearn-color-text-muted);\n",
       "}\n",
       "\n",
       "#sk-container-id-1 label.sk-toggleable__label-arrow:before {\n",
       "  /* Arrow on the left of the label */\n",
       "  content: \"▸\";\n",
       "  float: left;\n",
       "  margin-right: 0.25em;\n",
       "  color: var(--sklearn-color-icon);\n",
       "}\n",
       "\n",
       "#sk-container-id-1 label.sk-toggleable__label-arrow:hover:before {\n",
       "  color: var(--sklearn-color-text);\n",
       "}\n",
       "\n",
       "/* Toggleable content - dropdown */\n",
       "\n",
       "#sk-container-id-1 div.sk-toggleable__content {\n",
       "  max-height: 0;\n",
       "  max-width: 0;\n",
       "  overflow: hidden;\n",
       "  text-align: left;\n",
       "  /* unfitted */\n",
       "  background-color: var(--sklearn-color-unfitted-level-0);\n",
       "}\n",
       "\n",
       "#sk-container-id-1 div.sk-toggleable__content.fitted {\n",
       "  /* fitted */\n",
       "  background-color: var(--sklearn-color-fitted-level-0);\n",
       "}\n",
       "\n",
       "#sk-container-id-1 div.sk-toggleable__content pre {\n",
       "  margin: 0.2em;\n",
       "  border-radius: 0.25em;\n",
       "  color: var(--sklearn-color-text);\n",
       "  /* unfitted */\n",
       "  background-color: var(--sklearn-color-unfitted-level-0);\n",
       "}\n",
       "\n",
       "#sk-container-id-1 div.sk-toggleable__content.fitted pre {\n",
       "  /* unfitted */\n",
       "  background-color: var(--sklearn-color-fitted-level-0);\n",
       "}\n",
       "\n",
       "#sk-container-id-1 input.sk-toggleable__control:checked~div.sk-toggleable__content {\n",
       "  /* Expand drop-down */\n",
       "  max-height: 200px;\n",
       "  max-width: 100%;\n",
       "  overflow: auto;\n",
       "}\n",
       "\n",
       "#sk-container-id-1 input.sk-toggleable__control:checked~label.sk-toggleable__label-arrow:before {\n",
       "  content: \"▾\";\n",
       "}\n",
       "\n",
       "/* Pipeline/ColumnTransformer-specific style */\n",
       "\n",
       "#sk-container-id-1 div.sk-label input.sk-toggleable__control:checked~label.sk-toggleable__label {\n",
       "  color: var(--sklearn-color-text);\n",
       "  background-color: var(--sklearn-color-unfitted-level-2);\n",
       "}\n",
       "\n",
       "#sk-container-id-1 div.sk-label.fitted input.sk-toggleable__control:checked~label.sk-toggleable__label {\n",
       "  background-color: var(--sklearn-color-fitted-level-2);\n",
       "}\n",
       "\n",
       "/* Estimator-specific style */\n",
       "\n",
       "/* Colorize estimator box */\n",
       "#sk-container-id-1 div.sk-estimator input.sk-toggleable__control:checked~label.sk-toggleable__label {\n",
       "  /* unfitted */\n",
       "  background-color: var(--sklearn-color-unfitted-level-2);\n",
       "}\n",
       "\n",
       "#sk-container-id-1 div.sk-estimator.fitted input.sk-toggleable__control:checked~label.sk-toggleable__label {\n",
       "  /* fitted */\n",
       "  background-color: var(--sklearn-color-fitted-level-2);\n",
       "}\n",
       "\n",
       "#sk-container-id-1 div.sk-label label.sk-toggleable__label,\n",
       "#sk-container-id-1 div.sk-label label {\n",
       "  /* The background is the default theme color */\n",
       "  color: var(--sklearn-color-text-on-default-background);\n",
       "}\n",
       "\n",
       "/* On hover, darken the color of the background */\n",
       "#sk-container-id-1 div.sk-label:hover label.sk-toggleable__label {\n",
       "  color: var(--sklearn-color-text);\n",
       "  background-color: var(--sklearn-color-unfitted-level-2);\n",
       "}\n",
       "\n",
       "/* Label box, darken color on hover, fitted */\n",
       "#sk-container-id-1 div.sk-label.fitted:hover label.sk-toggleable__label.fitted {\n",
       "  color: var(--sklearn-color-text);\n",
       "  background-color: var(--sklearn-color-fitted-level-2);\n",
       "}\n",
       "\n",
       "/* Estimator label */\n",
       "\n",
       "#sk-container-id-1 div.sk-label label {\n",
       "  font-family: monospace;\n",
       "  font-weight: bold;\n",
       "  display: inline-block;\n",
       "  line-height: 1.2em;\n",
       "}\n",
       "\n",
       "#sk-container-id-1 div.sk-label-container {\n",
       "  text-align: center;\n",
       "}\n",
       "\n",
       "/* Estimator-specific */\n",
       "#sk-container-id-1 div.sk-estimator {\n",
       "  font-family: monospace;\n",
       "  border: 1px dotted var(--sklearn-color-border-box);\n",
       "  border-radius: 0.25em;\n",
       "  box-sizing: border-box;\n",
       "  margin-bottom: 0.5em;\n",
       "  /* unfitted */\n",
       "  background-color: var(--sklearn-color-unfitted-level-0);\n",
       "}\n",
       "\n",
       "#sk-container-id-1 div.sk-estimator.fitted {\n",
       "  /* fitted */\n",
       "  background-color: var(--sklearn-color-fitted-level-0);\n",
       "}\n",
       "\n",
       "/* on hover */\n",
       "#sk-container-id-1 div.sk-estimator:hover {\n",
       "  /* unfitted */\n",
       "  background-color: var(--sklearn-color-unfitted-level-2);\n",
       "}\n",
       "\n",
       "#sk-container-id-1 div.sk-estimator.fitted:hover {\n",
       "  /* fitted */\n",
       "  background-color: var(--sklearn-color-fitted-level-2);\n",
       "}\n",
       "\n",
       "/* Specification for estimator info (e.g. \"i\" and \"?\") */\n",
       "\n",
       "/* Common style for \"i\" and \"?\" */\n",
       "\n",
       ".sk-estimator-doc-link,\n",
       "a:link.sk-estimator-doc-link,\n",
       "a:visited.sk-estimator-doc-link {\n",
       "  float: right;\n",
       "  font-size: smaller;\n",
       "  line-height: 1em;\n",
       "  font-family: monospace;\n",
       "  background-color: var(--sklearn-color-background);\n",
       "  border-radius: 1em;\n",
       "  height: 1em;\n",
       "  width: 1em;\n",
       "  text-decoration: none !important;\n",
       "  margin-left: 0.5em;\n",
       "  text-align: center;\n",
       "  /* unfitted */\n",
       "  border: var(--sklearn-color-unfitted-level-1) 1pt solid;\n",
       "  color: var(--sklearn-color-unfitted-level-1);\n",
       "}\n",
       "\n",
       ".sk-estimator-doc-link.fitted,\n",
       "a:link.sk-estimator-doc-link.fitted,\n",
       "a:visited.sk-estimator-doc-link.fitted {\n",
       "  /* fitted */\n",
       "  border: var(--sklearn-color-fitted-level-1) 1pt solid;\n",
       "  color: var(--sklearn-color-fitted-level-1);\n",
       "}\n",
       "\n",
       "/* On hover */\n",
       "div.sk-estimator:hover .sk-estimator-doc-link:hover,\n",
       ".sk-estimator-doc-link:hover,\n",
       "div.sk-label-container:hover .sk-estimator-doc-link:hover,\n",
       ".sk-estimator-doc-link:hover {\n",
       "  /* unfitted */\n",
       "  background-color: var(--sklearn-color-unfitted-level-3);\n",
       "  color: var(--sklearn-color-background);\n",
       "  text-decoration: none;\n",
       "}\n",
       "\n",
       "div.sk-estimator.fitted:hover .sk-estimator-doc-link.fitted:hover,\n",
       ".sk-estimator-doc-link.fitted:hover,\n",
       "div.sk-label-container:hover .sk-estimator-doc-link.fitted:hover,\n",
       ".sk-estimator-doc-link.fitted:hover {\n",
       "  /* fitted */\n",
       "  background-color: var(--sklearn-color-fitted-level-3);\n",
       "  color: var(--sklearn-color-background);\n",
       "  text-decoration: none;\n",
       "}\n",
       "\n",
       "/* Span, style for the box shown on hovering the info icon */\n",
       ".sk-estimator-doc-link span {\n",
       "  display: none;\n",
       "  z-index: 9999;\n",
       "  position: relative;\n",
       "  font-weight: normal;\n",
       "  right: .2ex;\n",
       "  padding: .5ex;\n",
       "  margin: .5ex;\n",
       "  width: min-content;\n",
       "  min-width: 20ex;\n",
       "  max-width: 50ex;\n",
       "  color: var(--sklearn-color-text);\n",
       "  box-shadow: 2pt 2pt 4pt #999;\n",
       "  /* unfitted */\n",
       "  background: var(--sklearn-color-unfitted-level-0);\n",
       "  border: .5pt solid var(--sklearn-color-unfitted-level-3);\n",
       "}\n",
       "\n",
       ".sk-estimator-doc-link.fitted span {\n",
       "  /* fitted */\n",
       "  background: var(--sklearn-color-fitted-level-0);\n",
       "  border: var(--sklearn-color-fitted-level-3);\n",
       "}\n",
       "\n",
       ".sk-estimator-doc-link:hover span {\n",
       "  display: block;\n",
       "}\n",
       "\n",
       "/* \"?\"-specific style due to the `<a>` HTML tag */\n",
       "\n",
       "#sk-container-id-1 a.estimator_doc_link {\n",
       "  float: right;\n",
       "  font-size: 1rem;\n",
       "  line-height: 1em;\n",
       "  font-family: monospace;\n",
       "  background-color: var(--sklearn-color-background);\n",
       "  border-radius: 1rem;\n",
       "  height: 1rem;\n",
       "  width: 1rem;\n",
       "  text-decoration: none;\n",
       "  /* unfitted */\n",
       "  color: var(--sklearn-color-unfitted-level-1);\n",
       "  border: var(--sklearn-color-unfitted-level-1) 1pt solid;\n",
       "}\n",
       "\n",
       "#sk-container-id-1 a.estimator_doc_link.fitted {\n",
       "  /* fitted */\n",
       "  border: var(--sklearn-color-fitted-level-1) 1pt solid;\n",
       "  color: var(--sklearn-color-fitted-level-1);\n",
       "}\n",
       "\n",
       "/* On hover */\n",
       "#sk-container-id-1 a.estimator_doc_link:hover {\n",
       "  /* unfitted */\n",
       "  background-color: var(--sklearn-color-unfitted-level-3);\n",
       "  color: var(--sklearn-color-background);\n",
       "  text-decoration: none;\n",
       "}\n",
       "\n",
       "#sk-container-id-1 a.estimator_doc_link.fitted:hover {\n",
       "  /* fitted */\n",
       "  background-color: var(--sklearn-color-fitted-level-3);\n",
       "}\n",
       "</style><div id=\"sk-container-id-1\" class=\"sk-top-container\"><div class=\"sk-text-repr-fallback\"><pre>Pipeline(steps=[(&#x27;preprocessing&#x27;,\n",
       "                 ColumnTransformer(transformers=[(&#x27;num&#x27;,\n",
       "                                                  Pipeline(steps=[(&#x27;imputer&#x27;,\n",
       "                                                                   SimpleImputer()),\n",
       "                                                                  (&#x27;scaler&#x27;,\n",
       "                                                                   StandardScaler())]),\n",
       "                                                  [&#x27;Temperature&#x27;, &#x27;CPI&#x27;,\n",
       "                                                   &#x27;Unemployment&#x27;, &#x27;Year&#x27;,\n",
       "                                                   &#x27;Month&#x27;]),\n",
       "                                                 (&#x27;cat&#x27;,\n",
       "                                                  OneHotEncoder(handle_unknown=&#x27;ignore&#x27;),\n",
       "                                                  [&#x27;Store&#x27;, &#x27;Holiday_Flag&#x27;])])),\n",
       "                (&#x27;regressor&#x27;, LinearRegression())])</pre><b>In a Jupyter environment, please rerun this cell to show the HTML representation or trust the notebook. <br />On GitHub, the HTML representation is unable to render, please try loading this page with nbviewer.org.</b></div><div class=\"sk-container\" hidden><div class=\"sk-item sk-dashed-wrapped\"><div class=\"sk-label-container\"><div class=\"sk-label fitted sk-toggleable\"><input class=\"sk-toggleable__control sk-hidden--visually\" id=\"sk-estimator-id-1\" type=\"checkbox\" ><label for=\"sk-estimator-id-1\" class=\"sk-toggleable__label fitted sk-toggleable__label-arrow\"><div><div>Pipeline</div></div><div><a class=\"sk-estimator-doc-link fitted\" rel=\"noreferrer\" target=\"_blank\" href=\"https://scikit-learn.org/1.6/modules/generated/sklearn.pipeline.Pipeline.html\">?<span>Documentation for Pipeline</span></a><span class=\"sk-estimator-doc-link fitted\">i<span>Fitted</span></span></div></label><div class=\"sk-toggleable__content fitted\"><pre>Pipeline(steps=[(&#x27;preprocessing&#x27;,\n",
       "                 ColumnTransformer(transformers=[(&#x27;num&#x27;,\n",
       "                                                  Pipeline(steps=[(&#x27;imputer&#x27;,\n",
       "                                                                   SimpleImputer()),\n",
       "                                                                  (&#x27;scaler&#x27;,\n",
       "                                                                   StandardScaler())]),\n",
       "                                                  [&#x27;Temperature&#x27;, &#x27;CPI&#x27;,\n",
       "                                                   &#x27;Unemployment&#x27;, &#x27;Year&#x27;,\n",
       "                                                   &#x27;Month&#x27;]),\n",
       "                                                 (&#x27;cat&#x27;,\n",
       "                                                  OneHotEncoder(handle_unknown=&#x27;ignore&#x27;),\n",
       "                                                  [&#x27;Store&#x27;, &#x27;Holiday_Flag&#x27;])])),\n",
       "                (&#x27;regressor&#x27;, LinearRegression())])</pre></div> </div></div><div class=\"sk-serial\"><div class=\"sk-item sk-dashed-wrapped\"><div class=\"sk-label-container\"><div class=\"sk-label fitted sk-toggleable\"><input class=\"sk-toggleable__control sk-hidden--visually\" id=\"sk-estimator-id-2\" type=\"checkbox\" ><label for=\"sk-estimator-id-2\" class=\"sk-toggleable__label fitted sk-toggleable__label-arrow\"><div><div>preprocessing: ColumnTransformer</div></div><div><a class=\"sk-estimator-doc-link fitted\" rel=\"noreferrer\" target=\"_blank\" href=\"https://scikit-learn.org/1.6/modules/generated/sklearn.compose.ColumnTransformer.html\">?<span>Documentation for preprocessing: ColumnTransformer</span></a></div></label><div class=\"sk-toggleable__content fitted\"><pre>ColumnTransformer(transformers=[(&#x27;num&#x27;,\n",
       "                                 Pipeline(steps=[(&#x27;imputer&#x27;, SimpleImputer()),\n",
       "                                                 (&#x27;scaler&#x27;, StandardScaler())]),\n",
       "                                 [&#x27;Temperature&#x27;, &#x27;CPI&#x27;, &#x27;Unemployment&#x27;, &#x27;Year&#x27;,\n",
       "                                  &#x27;Month&#x27;]),\n",
       "                                (&#x27;cat&#x27;, OneHotEncoder(handle_unknown=&#x27;ignore&#x27;),\n",
       "                                 [&#x27;Store&#x27;, &#x27;Holiday_Flag&#x27;])])</pre></div> </div></div><div class=\"sk-parallel\"><div class=\"sk-parallel-item\"><div class=\"sk-item\"><div class=\"sk-label-container\"><div class=\"sk-label fitted sk-toggleable\"><input class=\"sk-toggleable__control sk-hidden--visually\" id=\"sk-estimator-id-3\" type=\"checkbox\" ><label for=\"sk-estimator-id-3\" class=\"sk-toggleable__label fitted sk-toggleable__label-arrow\"><div><div>num</div></div></label><div class=\"sk-toggleable__content fitted\"><pre>[&#x27;Temperature&#x27;, &#x27;CPI&#x27;, &#x27;Unemployment&#x27;, &#x27;Year&#x27;, &#x27;Month&#x27;]</pre></div> </div></div><div class=\"sk-serial\"><div class=\"sk-item\"><div class=\"sk-serial\"><div class=\"sk-item\"><div class=\"sk-estimator fitted sk-toggleable\"><input class=\"sk-toggleable__control sk-hidden--visually\" id=\"sk-estimator-id-4\" type=\"checkbox\" ><label for=\"sk-estimator-id-4\" class=\"sk-toggleable__label fitted sk-toggleable__label-arrow\"><div><div>SimpleImputer</div></div><div><a class=\"sk-estimator-doc-link fitted\" rel=\"noreferrer\" target=\"_blank\" href=\"https://scikit-learn.org/1.6/modules/generated/sklearn.impute.SimpleImputer.html\">?<span>Documentation for SimpleImputer</span></a></div></label><div class=\"sk-toggleable__content fitted\"><pre>SimpleImputer()</pre></div> </div></div><div class=\"sk-item\"><div class=\"sk-estimator fitted sk-toggleable\"><input class=\"sk-toggleable__control sk-hidden--visually\" id=\"sk-estimator-id-5\" type=\"checkbox\" ><label for=\"sk-estimator-id-5\" class=\"sk-toggleable__label fitted sk-toggleable__label-arrow\"><div><div>StandardScaler</div></div><div><a class=\"sk-estimator-doc-link fitted\" rel=\"noreferrer\" target=\"_blank\" href=\"https://scikit-learn.org/1.6/modules/generated/sklearn.preprocessing.StandardScaler.html\">?<span>Documentation for StandardScaler</span></a></div></label><div class=\"sk-toggleable__content fitted\"><pre>StandardScaler()</pre></div> </div></div></div></div></div></div></div><div class=\"sk-parallel-item\"><div class=\"sk-item\"><div class=\"sk-label-container\"><div class=\"sk-label fitted sk-toggleable\"><input class=\"sk-toggleable__control sk-hidden--visually\" id=\"sk-estimator-id-6\" type=\"checkbox\" ><label for=\"sk-estimator-id-6\" class=\"sk-toggleable__label fitted sk-toggleable__label-arrow\"><div><div>cat</div></div></label><div class=\"sk-toggleable__content fitted\"><pre>[&#x27;Store&#x27;, &#x27;Holiday_Flag&#x27;]</pre></div> </div></div><div class=\"sk-serial\"><div class=\"sk-item\"><div class=\"sk-estimator fitted sk-toggleable\"><input class=\"sk-toggleable__control sk-hidden--visually\" id=\"sk-estimator-id-7\" type=\"checkbox\" ><label for=\"sk-estimator-id-7\" class=\"sk-toggleable__label fitted sk-toggleable__label-arrow\"><div><div>OneHotEncoder</div></div><div><a class=\"sk-estimator-doc-link fitted\" rel=\"noreferrer\" target=\"_blank\" href=\"https://scikit-learn.org/1.6/modules/generated/sklearn.preprocessing.OneHotEncoder.html\">?<span>Documentation for OneHotEncoder</span></a></div></label><div class=\"sk-toggleable__content fitted\"><pre>OneHotEncoder(handle_unknown=&#x27;ignore&#x27;)</pre></div> </div></div></div></div></div></div></div><div class=\"sk-item\"><div class=\"sk-estimator fitted sk-toggleable\"><input class=\"sk-toggleable__control sk-hidden--visually\" id=\"sk-estimator-id-8\" type=\"checkbox\" ><label for=\"sk-estimator-id-8\" class=\"sk-toggleable__label fitted sk-toggleable__label-arrow\"><div><div>LinearRegression</div></div><div><a class=\"sk-estimator-doc-link fitted\" rel=\"noreferrer\" target=\"_blank\" href=\"https://scikit-learn.org/1.6/modules/generated/sklearn.linear_model.LinearRegression.html\">?<span>Documentation for LinearRegression</span></a></div></label><div class=\"sk-toggleable__content fitted\"><pre>LinearRegression()</pre></div> </div></div></div></div></div></div>"
      ],
      "text/plain": [
       "Pipeline(steps=[('preprocessing',\n",
       "                 ColumnTransformer(transformers=[('num',\n",
       "                                                  Pipeline(steps=[('imputer',\n",
       "                                                                   SimpleImputer()),\n",
       "                                                                  ('scaler',\n",
       "                                                                   StandardScaler())]),\n",
       "                                                  ['Temperature', 'CPI',\n",
       "                                                   'Unemployment', 'Year',\n",
       "                                                   'Month']),\n",
       "                                                 ('cat',\n",
       "                                                  OneHotEncoder(handle_unknown='ignore'),\n",
       "                                                  ['Store', 'Holiday_Flag'])])),\n",
       "                ('regressor', LinearRegression())])"
      ]
     },
     "execution_count": 37,
     "metadata": {},
     "output_type": "execute_result"
    }
   ],
   "source": [
    "model_lr_pipeline.fit(X_train, y_train)"
   ]
  },
  {
   "cell_type": "code",
   "execution_count": 38,
   "metadata": {},
   "outputs": [
    {
     "data": {
      "text/html": [
       "<div>\n",
       "<style scoped>\n",
       "    .dataframe tbody tr th:only-of-type {\n",
       "        vertical-align: middle;\n",
       "    }\n",
       "\n",
       "    .dataframe tbody tr th {\n",
       "        vertical-align: top;\n",
       "    }\n",
       "\n",
       "    .dataframe thead th {\n",
       "        text-align: right;\n",
       "    }\n",
       "</style>\n",
       "<table border=\"1\" class=\"dataframe\">\n",
       "  <thead>\n",
       "    <tr style=\"text-align: right;\">\n",
       "      <th></th>\n",
       "      <th>Vraies ventes</th>\n",
       "      <th>Prédictions</th>\n",
       "    </tr>\n",
       "  </thead>\n",
       "  <tbody>\n",
       "    <tr>\n",
       "      <th>0</th>\n",
       "      <td>988157.72</td>\n",
       "      <td>1.072854e+06</td>\n",
       "    </tr>\n",
       "    <tr>\n",
       "      <th>1</th>\n",
       "      <td>301827.36</td>\n",
       "      <td>3.855007e+05</td>\n",
       "    </tr>\n",
       "    <tr>\n",
       "      <th>2</th>\n",
       "      <td>2248645.59</td>\n",
       "      <td>2.054013e+06</td>\n",
       "    </tr>\n",
       "    <tr>\n",
       "      <th>3</th>\n",
       "      <td>1166117.85</td>\n",
       "      <td>1.128859e+06</td>\n",
       "    </tr>\n",
       "    <tr>\n",
       "      <th>4</th>\n",
       "      <td>1205307.50</td>\n",
       "      <td>1.175394e+06</td>\n",
       "    </tr>\n",
       "  </tbody>\n",
       "</table>\n",
       "</div>"
      ],
      "text/plain": [
       "   Vraies ventes   Prédictions\n",
       "0      988157.72  1.072854e+06\n",
       "1      301827.36  3.855007e+05\n",
       "2     2248645.59  2.054013e+06\n",
       "3     1166117.85  1.128859e+06\n",
       "4     1205307.50  1.175394e+06"
      ]
     },
     "execution_count": 38,
     "metadata": {},
     "output_type": "execute_result"
    }
   ],
   "source": [
    "y_train_pred = model_lr_pipeline.predict(X_train)\n",
    "y_test_pred = model_lr_pipeline.predict(X_test)\n",
    "\n",
    "compare_df = pd.DataFrame({'Vraies ventes': y_test.values, 'Prédictions': y_test_pred})\n",
    "\n",
    "compare_df.head()"
   ]
  },
  {
   "cell_type": "code",
   "execution_count": 39,
   "metadata": {},
   "outputs": [
    {
     "name": "stdout",
     "output_type": "stream",
     "text": [
      "r2 score on training set: 0.967\n",
      "r2 score on test set: 0.951\n",
      "RMSE sore on test set: 158956.150\n"
     ]
    }
   ],
   "source": [
    "#Performance du modèle\n",
    "\n",
    "#RMSE (Root Mean Squared Error)\n",
    "rmse = np.sqrt(mean_squared_error(y_test, y_test_pred))\n",
    "\n",
    "#Calcul du R²\n",
    "r2_test = r2_score(y_test, y_test_pred)\n",
    "r2_train = r2_score(y_train, y_train_pred)\n",
    "\n",
    "print(\"r2 score on training set: {:.3f}\".format(r2_train))\n",
    "print(\"r2 score on test set: {:.3f}\".format(r2_test))\n",
    "print(\"RMSE sore on test set: {:.3f}\".format(rmse))"
   ]
  },
  {
   "cell_type": "code",
   "execution_count": 40,
   "metadata": {},
   "outputs": [
    {
     "data": {
      "image/png": "[encoded data removed]",
      "text/plain": [
       "<Figure size 800x500 with 1 Axes>"
      ]
     },
     "metadata": {},
     "output_type": "display_data"
    },
    {
     "data": {
      "image/png": "[encoded data removed]",
      "text/plain": [
       "<Figure size 800x500 with 1 Axes>"
      ]
     },
     "metadata": {},
     "output_type": "display_data"
    }
   ],
   "source": [
    "# Prédictions\n",
    "residuals = y_test - y_test_pred\n",
    "\n",
    "# 1. Résidus vs Prédictions\n",
    "plt.figure(figsize=(8,5))\n",
    "sns.scatterplot(x=y_test_pred, y=residuals)\n",
    "plt.axhline(0, linestyle='--', color='red')\n",
    "plt.xlabel('Valeurs prédites')\n",
    "plt.ylabel('Résidus')\n",
    "plt.title('Résidus vs Prédictions')\n",
    "plt.grid(True)\n",
    "plt.show()\n",
    "\n",
    "# 2. Histogramme des résidus\n",
    "plt.figure(figsize=(8,5))\n",
    "sns.histplot(residuals, kde=True, bins=20)\n",
    "plt.title('Distribution des résidus')\n",
    "plt.xlabel('Résidu')\n",
    "plt.ylabel('Fréquence')\n",
    "plt.grid(True)\n",
    "plt.show()"
   ]
  },
  {
   "cell_type": "markdown",
   "metadata": {},
   "source": [
    "**RIDGE MODEL**"
   ]
  },
  {
   "cell_type": "code",
   "execution_count": 41,
   "metadata": {},
   "outputs": [],
   "source": [
    "from sklearn.linear_model import Ridge\n",
    "from sklearn.model_selection import GridSearchCV"
   ]
  },
  {
   "cell_type": "code",
   "execution_count": 42,
   "metadata": {},
   "outputs": [],
   "source": [
    "model_ridge_pipeline = Pipeline(steps=[\n",
    "    ('preprocessing', preprocessor),\n",
    "    ('regressor', Ridge())\n",
    "])\n",
    "\n",
    "param_grid = {\n",
    "    'regressor__alpha': [0.05, 0.1, 0.3, 0.5 ,0.7, 1, 3, 5, 10, 20, 50, 100, 150, 200, 230, 250,265]\n",
    "}\n",
    "\n",
    "grid_search_ridge = GridSearchCV(\n",
    "    model_ridge_pipeline,\n",
    "    param_grid,\n",
    "    cv=5,\n",
    "    scoring='r2',\n",
    ")"
   ]
  },
  {
   "cell_type": "code",
   "execution_count": 43,
   "metadata": {},
   "outputs": [
    {
     "name": "stdout",
     "output_type": "stream",
     "text": [
      "Meilleurs paramètres Ridge: 0.1\n"
     ]
    }
   ],
   "source": [
    "grid_search_ridge.fit(X_train, y_train)\n",
    "\n",
    "best_alpha = grid_search_ridge.best_params_['regressor__alpha']\n",
    "best_ridge_model = grid_search_ridge.best_estimator_\n",
    "\n",
    "best_alpha, best_ridge_model\n",
    "\n",
    "\n",
    "# Affichage des meilleurs paramètres\n",
    "print(\"Meilleurs paramètres Ridge:\", best_alpha)"
   ]
  },
  {
   "cell_type": "code",
   "execution_count": 44,
   "metadata": {},
   "outputs": [
    {
     "name": "stdout",
     "output_type": "stream",
     "text": [
      "Ridge r2 score on training set: 0.966\n",
      "Ridge r2 score on test set: 0.949\n",
      "Ridge RMSE sore on test set: 162940.988\n"
     ]
    }
   ],
   "source": [
    "y_pred_ridge = best_ridge_model.predict(X_test)\n",
    "y_train_pred_ridge = best_ridge_model.predict(X_train)\n",
    "\n",
    "rmse_ridge_test = np.sqrt(mean_squared_error(y_test, y_pred_ridge))\n",
    "r2_ridge_test = r2_score(y_test, y_pred_ridge)\n",
    "r2_ridge_train = r2_score(y_train, y_train_pred_ridge)\n",
    "\n",
    "print(\"Ridge r2 score on training set: {:.3f}\".format(r2_ridge_train))\n",
    "print(\"Ridge r2 score on test set: {:.3f}\".format(r2_ridge_test))\n",
    "print(\"Ridge RMSE sore on test set: {:.3f}\".format(rmse_ridge_test))\n"
   ]
  },
  {
   "cell_type": "markdown",
   "metadata": {},
   "source": [
    "**LASSO**"
   ]
  },
  {
   "cell_type": "code",
   "execution_count": 45,
   "metadata": {},
   "outputs": [],
   "source": [
    "from sklearn.linear_model import Lasso"
   ]
  },
  {
   "cell_type": "code",
   "execution_count": 46,
   "metadata": {},
   "outputs": [
    {
     "name": "stdout",
     "output_type": "stream",
     "text": [
      "Meilleurs paramètres Lasso: 900\n",
      "Meilleur modèle Lasso: Pipeline(steps=[('preprocessing',\n",
      "                 ColumnTransformer(transformers=[('num',\n",
      "                                                  Pipeline(steps=[('imputer',\n",
      "                                                                   SimpleImputer()),\n",
      "                                                                  ('scaler',\n",
      "                                                                   StandardScaler())]),\n",
      "                                                  ['Temperature', 'CPI',\n",
      "                                                   'Unemployment', 'Year',\n",
      "                                                   'Month']),\n",
      "                                                 ('cat',\n",
      "                                                  OneHotEncoder(handle_unknown='ignore'),\n",
      "                                                  ['Store', 'Holiday_Flag'])])),\n",
      "                ('regressor', Lasso(alpha=900, max_iter=1000000))])\n"
     ]
    }
   ],
   "source": [
    "model_lasso_pipeline = Pipeline(steps=[\n",
    "    ('preprocessing', preprocessor),\n",
    "    ('regressor', Lasso(max_iter=1000000))\n",
    "])\n",
    "param_grid_lasso = {\n",
    "    'regressor__alpha': [5, 10, 20, 30, 50, 100, 150, 200, 250, 300, 350, 400, 450, 500, 700, 900, 1000, 2000, 3000]\n",
    "}\n",
    "\n",
    "grid_search_lasso = GridSearchCV(\n",
    "    model_lasso_pipeline,\n",
    "    param_grid_lasso,\n",
    "    cv=5,\n",
    "    scoring='r2',\n",
    ")\n",
    "\n",
    "grid_search_lasso.fit(X_train, y_train)\n",
    "\n",
    "# Meilleur alpha trouvé\n",
    "best_alpha_lasso = grid_search_lasso.best_params_['regressor__alpha']\n",
    "best_lasso_model = grid_search_lasso.best_estimator_\n",
    "\n",
    "print(\"Meilleurs paramètres Lasso:\", best_alpha_lasso)\n",
    "print(\"Meilleur modèle Lasso:\", best_lasso_model)"
   ]
  },
  {
   "cell_type": "code",
   "execution_count": 47,
   "metadata": {},
   "outputs": [
    {
     "name": "stdout",
     "output_type": "stream",
     "text": [
      "Lasso r2 score on training set: 0.966\n",
      "Lasso r2 score on test set: 0.947\n",
      "Lasso RMSE sore on test set: 166008.961\n"
     ]
    }
   ],
   "source": [
    "y_pred_lasso = best_lasso_model.predict(X_test)\n",
    "y_train_pred_lasso = best_lasso_model.predict(X_train)\n",
    "\n",
    "rmse_lasso_test = np.sqrt(mean_squared_error(y_test, y_pred_lasso))\n",
    "r2_lasso_test = r2_score(y_test, y_pred_lasso)\n",
    "r2_lasso_train = r2_score(y_train, y_train_pred_lasso)\n",
    "\n",
    "print(\"Lasso r2 score on training set: {:.3f}\".format(r2_lasso_train))\n",
    "print(\"Lasso r2 score on test set: {:.3f}\".format(r2_lasso_test))\n",
    "print(\"Lasso RMSE sore on test set: {:.3f}\".format(rmse_lasso_test))"
   ]
  },
  {
   "cell_type": "code",
   "execution_count": 48,
   "metadata": {},
   "outputs": [
    {
     "data": {
      "text/html": [
       "<div>\n",
       "<style scoped>\n",
       "    .dataframe tbody tr th:only-of-type {\n",
       "        vertical-align: middle;\n",
       "    }\n",
       "\n",
       "    .dataframe tbody tr th {\n",
       "        vertical-align: top;\n",
       "    }\n",
       "\n",
       "    .dataframe thead th {\n",
       "        text-align: right;\n",
       "    }\n",
       "</style>\n",
       "<table border=\"1\" class=\"dataframe\">\n",
       "  <thead>\n",
       "    <tr style=\"text-align: right;\">\n",
       "      <th></th>\n",
       "      <th>Modèle</th>\n",
       "      <th>R2 Train</th>\n",
       "      <th>R2 Test</th>\n",
       "      <th>RMSE Test</th>\n",
       "    </tr>\n",
       "  </thead>\n",
       "  <tbody>\n",
       "    <tr>\n",
       "      <th>0</th>\n",
       "      <td>Régression linéaire</td>\n",
       "      <td>0.967</td>\n",
       "      <td>0.951</td>\n",
       "      <td>158956</td>\n",
       "    </tr>\n",
       "    <tr>\n",
       "      <th>1</th>\n",
       "      <td>Ridge</td>\n",
       "      <td>0.966</td>\n",
       "      <td>0.949</td>\n",
       "      <td>162941</td>\n",
       "    </tr>\n",
       "    <tr>\n",
       "      <th>2</th>\n",
       "      <td>Lasso</td>\n",
       "      <td>0.966</td>\n",
       "      <td>0.947</td>\n",
       "      <td>166009</td>\n",
       "    </tr>\n",
       "  </tbody>\n",
       "</table>\n",
       "</div>"
      ],
      "text/plain": [
       "                Modèle R2 Train R2 Test RMSE Test\n",
       "0  Régression linéaire    0.967   0.951    158956\n",
       "1                Ridge    0.966   0.949    162941\n",
       "2                Lasso    0.966   0.947    166009"
      ]
     },
     "execution_count": 48,
     "metadata": {},
     "output_type": "execute_result"
    }
   ],
   "source": [
    "model_results = pd.DataFrame({\n",
    "    'Modèle': ['Régression linéaire', 'Ridge', 'Lasso'],\n",
    "    'R2 Train': ['{:.3f}'.format(r2_train), '{:.3f}'.format(r2_ridge_train), '{:.3f}'.format(r2_lasso_train)],\n",
    "    'R2 Test': ['{:.3f}'.format(r2_test), '{:.3f}'.format(r2_ridge_test), '{:.3f}'.format(r2_lasso_test)],\n",
    "    'RMSE Test': ['{:.0f}'.format(rmse), '{:.0f}'.format(rmse_ridge_test), '{:.0f}'.format(rmse_lasso_test)]\n",
    "})\n",
    "\n",
    "model_results"
   ]
  },
  {
   "cell_type": "code",
   "execution_count": 49,
   "metadata": {},
   "outputs": [
    {
     "data": {
      "text/html": [
       "<div>\n",
       "<style scoped>\n",
       "    .dataframe tbody tr th:only-of-type {\n",
       "        vertical-align: middle;\n",
       "    }\n",
       "\n",
       "    .dataframe tbody tr th {\n",
       "        vertical-align: top;\n",
       "    }\n",
       "\n",
       "    .dataframe thead th {\n",
       "        text-align: right;\n",
       "    }\n",
       "</style>\n",
       "<table border=\"1\" class=\"dataframe\">\n",
       "  <thead>\n",
       "    <tr style=\"text-align: right;\">\n",
       "      <th></th>\n",
       "      <th>Feature</th>\n",
       "      <th>Ridge Coefficients</th>\n",
       "      <th>Lasso Coefficients</th>\n",
       "      <th>Linear Regression Coefficients</th>\n",
       "    </tr>\n",
       "  </thead>\n",
       "  <tbody>\n",
       "    <tr>\n",
       "      <th>0</th>\n",
       "      <td>Store_1.0</td>\n",
       "      <td>-27387.581918</td>\n",
       "      <td>-2.796876e+04</td>\n",
       "      <td>-28893.234603</td>\n",
       "    </tr>\n",
       "    <tr>\n",
       "      <th>1</th>\n",
       "      <td>Store_2.0</td>\n",
       "      <td>-66622.878793</td>\n",
       "      <td>-4.607558e+04</td>\n",
       "      <td>-47075.768837</td>\n",
       "    </tr>\n",
       "    <tr>\n",
       "      <th>2</th>\n",
       "      <td>Store_3.0</td>\n",
       "      <td>-18399.715596</td>\n",
       "      <td>-1.565362e+04</td>\n",
       "      <td>-24659.007310</td>\n",
       "    </tr>\n",
       "    <tr>\n",
       "      <th>3</th>\n",
       "      <td>Store_4.0</td>\n",
       "      <td>-12673.736664</td>\n",
       "      <td>-1.324654e+04</td>\n",
       "      <td>-15519.138307</td>\n",
       "    </tr>\n",
       "    <tr>\n",
       "      <th>4</th>\n",
       "      <td>Store_5.0</td>\n",
       "      <td>42322.789328</td>\n",
       "      <td>4.166611e+04</td>\n",
       "      <td>46627.578157</td>\n",
       "    </tr>\n",
       "    <tr>\n",
       "      <th>5</th>\n",
       "      <td>Store_6.0</td>\n",
       "      <td>373367.717356</td>\n",
       "      <td>2.241133e+05</td>\n",
       "      <td>366384.520937</td>\n",
       "    </tr>\n",
       "    <tr>\n",
       "      <th>6</th>\n",
       "      <td>Store_7.0</td>\n",
       "      <td>757991.547709</td>\n",
       "      <td>6.130093e+05</td>\n",
       "      <td>757407.195851</td>\n",
       "    </tr>\n",
       "    <tr>\n",
       "      <th>7</th>\n",
       "      <td>Store_8.0</td>\n",
       "      <td>-768039.130233</td>\n",
       "      <td>-9.119468e+05</td>\n",
       "      <td>-796215.946719</td>\n",
       "    </tr>\n",
       "    <tr>\n",
       "      <th>8</th>\n",
       "      <td>Store_9.0</td>\n",
       "      <td>685387.458926</td>\n",
       "      <td>5.828963e+05</td>\n",
       "      <td>722162.503751</td>\n",
       "    </tr>\n",
       "    <tr>\n",
       "      <th>9</th>\n",
       "      <td>Store_10.0</td>\n",
       "      <td>-881206.482369</td>\n",
       "      <td>-1.022314e+06</td>\n",
       "      <td>-921476.786773</td>\n",
       "    </tr>\n",
       "    <tr>\n",
       "      <th>10</th>\n",
       "      <td>Store_11.0</td>\n",
       "      <td>353518.986323</td>\n",
       "      <td>1.955741e+05</td>\n",
       "      <td>344256.676700</td>\n",
       "    </tr>\n",
       "    <tr>\n",
       "      <th>11</th>\n",
       "      <td>Store_13.0</td>\n",
       "      <td>-659966.035765</td>\n",
       "      <td>-7.842834e+05</td>\n",
       "      <td>-659567.650364</td>\n",
       "    </tr>\n",
       "    <tr>\n",
       "      <th>12</th>\n",
       "      <td>Store_14.0</td>\n",
       "      <td>-303696.708911</td>\n",
       "      <td>-4.348494e+05</td>\n",
       "      <td>-328080.367844</td>\n",
       "    </tr>\n",
       "    <tr>\n",
       "      <th>13</th>\n",
       "      <td>Store_15.0</td>\n",
       "      <td>-664977.503457</td>\n",
       "      <td>-7.969494e+05</td>\n",
       "      <td>-718161.438040</td>\n",
       "    </tr>\n",
       "    <tr>\n",
       "      <th>14</th>\n",
       "      <td>Store_16.0</td>\n",
       "      <td>534373.321369</td>\n",
       "      <td>4.221667e+05</td>\n",
       "      <td>586907.406995</td>\n",
       "    </tr>\n",
       "    <tr>\n",
       "      <th>15</th>\n",
       "      <td>Store_17.0</td>\n",
       "      <td>301839.410088</td>\n",
       "      <td>1.405461e+05</td>\n",
       "      <td>294390.807169</td>\n",
       "    </tr>\n",
       "    <tr>\n",
       "      <th>16</th>\n",
       "      <td>Store_18.0</td>\n",
       "      <td>594879.203862</td>\n",
       "      <td>4.868480e+05</td>\n",
       "      <td>627478.528935</td>\n",
       "    </tr>\n",
       "    <tr>\n",
       "      <th>17</th>\n",
       "      <td>Store_19.0</td>\n",
       "      <td>838081.652704</td>\n",
       "      <td>7.090817e+05</td>\n",
       "      <td>860471.995489</td>\n",
       "    </tr>\n",
       "    <tr>\n",
       "      <th>18</th>\n",
       "      <td>Store_20.0</td>\n",
       "      <td>-632497.586384</td>\n",
       "      <td>-7.263680e+05</td>\n",
       "      <td>-623452.433522</td>\n",
       "    </tr>\n",
       "    <tr>\n",
       "      <th>19</th>\n",
       "      <td>Holiday_Flag_0.0</td>\n",
       "      <td>-733661.202490</td>\n",
       "      <td>-8.539931e+05</td>\n",
       "      <td>-783223.962088</td>\n",
       "    </tr>\n",
       "    <tr>\n",
       "      <th>20</th>\n",
       "      <td>Holiday_Flag_1.0</td>\n",
       "      <td>-478875.438215</td>\n",
       "      <td>-5.746937e+05</td>\n",
       "      <td>-476433.625108</td>\n",
       "    </tr>\n",
       "    <tr>\n",
       "      <th>21</th>\n",
       "      <td>Temperature</td>\n",
       "      <td>-169739.593203</td>\n",
       "      <td>-2.624801e+05</td>\n",
       "      <td>-143358.245953</td>\n",
       "    </tr>\n",
       "    <tr>\n",
       "      <th>22</th>\n",
       "      <td>CPI</td>\n",
       "      <td>103525.808759</td>\n",
       "      <td>0.000000e+00</td>\n",
       "      <td>135074.598824</td>\n",
       "    </tr>\n",
       "    <tr>\n",
       "      <th>23</th>\n",
       "      <td>Unemployment</td>\n",
       "      <td>749694.573931</td>\n",
       "      <td>6.071713e+05</td>\n",
       "      <td>755436.221761</td>\n",
       "    </tr>\n",
       "    <tr>\n",
       "      <th>24</th>\n",
       "      <td>Year</td>\n",
       "      <td>-24743.604360</td>\n",
       "      <td>-3.447984e+04</td>\n",
       "      <td>-19999.181064</td>\n",
       "    </tr>\n",
       "    <tr>\n",
       "      <th>25</th>\n",
       "      <td>Month</td>\n",
       "      <td>24743.604360</td>\n",
       "      <td>9.104042e-10</td>\n",
       "      <td>19999.181064</td>\n",
       "    </tr>\n",
       "  </tbody>\n",
       "</table>\n",
       "</div>"
      ],
      "text/plain": [
       "             Feature  Ridge Coefficients  Lasso Coefficients  \\\n",
       "0          Store_1.0       -27387.581918       -2.796876e+04   \n",
       "1          Store_2.0       -66622.878793       -4.607558e+04   \n",
       "2          Store_3.0       -18399.715596       -1.565362e+04   \n",
       "3          Store_4.0       -12673.736664       -1.324654e+04   \n",
       "4          Store_5.0        42322.789328        4.166611e+04   \n",
       "5          Store_6.0       373367.717356        2.241133e+05   \n",
       "6          Store_7.0       757991.547709        6.130093e+05   \n",
       "7          Store_8.0      -768039.130233       -9.119468e+05   \n",
       "8          Store_9.0       685387.458926        5.828963e+05   \n",
       "9         Store_10.0      -881206.482369       -1.022314e+06   \n",
       "10        Store_11.0       353518.986323        1.955741e+05   \n",
       "11        Store_13.0      -659966.035765       -7.842834e+05   \n",
       "12        Store_14.0      -303696.708911       -4.348494e+05   \n",
       "13        Store_15.0      -664977.503457       -7.969494e+05   \n",
       "14        Store_16.0       534373.321369        4.221667e+05   \n",
       "15        Store_17.0       301839.410088        1.405461e+05   \n",
       "16        Store_18.0       594879.203862        4.868480e+05   \n",
       "17        Store_19.0       838081.652704        7.090817e+05   \n",
       "18        Store_20.0      -632497.586384       -7.263680e+05   \n",
       "19  Holiday_Flag_0.0      -733661.202490       -8.539931e+05   \n",
       "20  Holiday_Flag_1.0      -478875.438215       -5.746937e+05   \n",
       "21       Temperature      -169739.593203       -2.624801e+05   \n",
       "22               CPI       103525.808759        0.000000e+00   \n",
       "23      Unemployment       749694.573931        6.071713e+05   \n",
       "24              Year       -24743.604360       -3.447984e+04   \n",
       "25             Month        24743.604360        9.104042e-10   \n",
       "\n",
       "    Linear Regression Coefficients  \n",
       "0                    -28893.234603  \n",
       "1                    -47075.768837  \n",
       "2                    -24659.007310  \n",
       "3                    -15519.138307  \n",
       "4                     46627.578157  \n",
       "5                    366384.520937  \n",
       "6                    757407.195851  \n",
       "7                   -796215.946719  \n",
       "8                    722162.503751  \n",
       "9                   -921476.786773  \n",
       "10                   344256.676700  \n",
       "11                  -659567.650364  \n",
       "12                  -328080.367844  \n",
       "13                  -718161.438040  \n",
       "14                   586907.406995  \n",
       "15                   294390.807169  \n",
       "16                   627478.528935  \n",
       "17                   860471.995489  \n",
       "18                  -623452.433522  \n",
       "19                  -783223.962088  \n",
       "20                  -476433.625108  \n",
       "21                  -143358.245953  \n",
       "22                   135074.598824  \n",
       "23                   755436.221761  \n",
       "24                   -19999.181064  \n",
       "25                    19999.181064  "
      ]
     },
     "execution_count": 49,
     "metadata": {},
     "output_type": "execute_result"
    }
   ],
   "source": [
    "# créer un Plot coefficients\n",
    "ridge_coefs = grid_search_ridge.best_estimator_.named_steps['regressor'].coef_\n",
    "lasso_coefs = grid_search_lasso.best_estimator_.named_steps['regressor'].coef_\n",
    "lr_coefs = model_lr_pipeline.named_steps['regressor'].coef_\n",
    "\n",
    "# Récupérer l'encodage\n",
    "preprocessor_lasso = grid_search_lasso.best_estimator_.named_steps['preprocessing']\n",
    "ohe = preprocessor_lasso.named_transformers_['cat']\n",
    "\n",
    "# 1. Noms des variables après OneHotEncoding\n",
    "encoded_feature_names = ohe.get_feature_names_out(categorical_features)\n",
    "\n",
    "# 2. Fusionner avec les variables numériques\n",
    "all_feature_names = list(encoded_feature_names) + numerical_features\n",
    "\n",
    "# 3. Créer le DataFrame des coefficients\n",
    "coefs_df = pd.DataFrame({\n",
    "    'Feature': all_feature_names,\n",
    "    'Ridge Coefficients': ridge_coefs,\n",
    "    'Lasso Coefficients': lasso_coefs,\n",
    "    'Linear Regression Coefficients': lr_coefs\n",
    "})\n",
    "\n",
    "coefs_df"
   ]
  },
  {
   "cell_type": "code",
   "execution_count": 56,
   "metadata": {},
   "outputs": [],
   "source": [
    "# Rechargement du tableau des coefficients\n",
    "coefs_df_sorted = coefs_df.sort_values(by='Ridge Coefficients', ascending=False)"
   ]
  },
  {
   "cell_type": "code",
   "execution_count": 53,
   "metadata": {},
   "outputs": [
    {
     "data": {
      "application/vnd.plotly.v1+json": {
       "config": {
        "plotlyServerURL": "https://plot.ly"
       },
       "data": [
        {
         "marker": {
          "color": "steelblue"
         },
         "name": "Ridge",
         "orientation": "h",
         "type": "bar",
         "x": [
          838081.6527041419,
          757991.5477086642,
          749694.5739310643,
          685387.458925971,
          594879.2038615716,
          534373.3213689238,
          373367.71735643054,
          353518.98632277455,
          301839.4100882392,
          103525.80875890207,
          42322.789327566774,
          24743.604360047364,
          -12673.736664450596,
          -18399.715596286365,
          -24743.604360048063,
          -27387.581918382435,
          -66622.87879277689,
          -169739.59320321228,
          -303696.70891087735,
          -478875.43821478775,
          -632497.5863835128,
          -659966.0357654762,
          -664977.5034571808,
          -733661.2024896847,
          -768039.1302333649,
          -881206.4823685661
         ],
         "y": [
          "Store_19.0",
          "Store_7.0",
          "Unemployment",
          "Store_9.0",
          "Store_18.0",
          "Store_16.0",
          "Store_6.0",
          "Store_11.0",
          "Store_17.0",
          "CPI",
          "Store_5.0",
          "Month",
          "Store_4.0",
          "Store_3.0",
          "Year",
          "Store_1.0",
          "Store_2.0",
          "Temperature",
          "Store_14.0",
          "Holiday_Flag_1.0",
          "Store_20.0",
          "Store_13.0",
          "Store_15.0",
          "Holiday_Flag_0.0",
          "Store_8.0",
          "Store_10.0"
         ]
        },
        {
         "marker": {
          "color": "orange"
         },
         "name": "Lasso",
         "orientation": "h",
         "type": "bar",
         "x": [
          709081.6562049519,
          613009.3083957869,
          607171.3458360584,
          582896.3236077039,
          486848.0403364462,
          422166.6890355155,
          224113.30843410277,
          195574.06194648473,
          140546.104331359,
          0,
          41666.11062639474,
          9.104041964747012e-10,
          -13246.536525734746,
          -15653.616712400697,
          -34479.84466398182,
          -27968.76219390648,
          -46075.58169238374,
          -262480.0763314194,
          -434849.37912971945,
          -574693.6502828946,
          -726367.9854637895,
          -784283.3608120547,
          -796949.3544446009,
          -853993.0974684166,
          -911946.8414124134,
          -1022313.8386547546
         ],
         "y": [
          "Store_19.0",
          "Store_7.0",
          "Unemployment",
          "Store_9.0",
          "Store_18.0",
          "Store_16.0",
          "Store_6.0",
          "Store_11.0",
          "Store_17.0",
          "CPI",
          "Store_5.0",
          "Month",
          "Store_4.0",
          "Store_3.0",
          "Year",
          "Store_1.0",
          "Store_2.0",
          "Temperature",
          "Store_14.0",
          "Holiday_Flag_1.0",
          "Store_20.0",
          "Store_13.0",
          "Store_15.0",
          "Holiday_Flag_0.0",
          "Store_8.0",
          "Store_10.0"
         ]
        },
        {
         "marker": {
          "color": "green"
         },
         "name": "Régression linéaire",
         "orientation": "h",
         "type": "bar",
         "x": [
          860471.9954893602,
          757407.1958508011,
          755436.2217605783,
          722162.5037509025,
          627478.528934898,
          586907.4069945439,
          366384.5209368652,
          344256.6767001393,
          294390.80716944474,
          135074.59882362254,
          46627.57815705592,
          19999.181064092834,
          -15519.138307489357,
          -24659.00731017882,
          -19999.181064093933,
          -28893.234602892302,
          -47075.76883701188,
          -143358.2459525418,
          -328080.3678438288,
          -476433.6251084745,
          -623452.4335215731,
          -659567.6503638689,
          -718161.4380404145,
          -783223.962087748,
          -796215.9467192851,
          -921476.7867734196
         ],
         "y": [
          "Store_19.0",
          "Store_7.0",
          "Unemployment",
          "Store_9.0",
          "Store_18.0",
          "Store_16.0",
          "Store_6.0",
          "Store_11.0",
          "Store_17.0",
          "CPI",
          "Store_5.0",
          "Month",
          "Store_4.0",
          "Store_3.0",
          "Year",
          "Store_1.0",
          "Store_2.0",
          "Temperature",
          "Store_14.0",
          "Holiday_Flag_1.0",
          "Store_20.0",
          "Store_13.0",
          "Store_15.0",
          "Holiday_Flag_0.0",
          "Store_8.0",
          "Store_10.0"
         ]
        }
       ],
       "layout": {
        "barmode": "group",
        "height": 800,
        "legend": {
         "x": 0.8,
         "y": 1.1
        },
        "template": {
         "data": {
          "bar": [
           {
            "error_x": {
             "color": "#2a3f5f"
            },
            "error_y": {
             "color": "#2a3f5f"
            },
            "marker": {
             "line": {
              "color": "white",
              "width": 0.5
             },
             "pattern": {
              "fillmode": "overlay",
              "size": 10,
              "solidity": 0.2
             }
            },
            "type": "bar"
           }
          ],
          "barpolar": [
           {
            "marker": {
             "line": {
              "color": "white",
              "width": 0.5
             },
             "pattern": {
              "fillmode": "overlay",
              "size": 10,
              "solidity": 0.2
             }
            },
            "type": "barpolar"
           }
          ],
          "carpet": [
           {
            "aaxis": {
             "endlinecolor": "#2a3f5f",
             "gridcolor": "#C8D4E3",
             "linecolor": "#C8D4E3",
             "minorgridcolor": "#C8D4E3",
             "startlinecolor": "#2a3f5f"
            },
            "baxis": {
             "endlinecolor": "#2a3f5f",
             "gridcolor": "#C8D4E3",
             "linecolor": "#C8D4E3",
             "minorgridcolor": "#C8D4E3",
             "startlinecolor": "#2a3f5f"
            },
            "type": "carpet"
           }
          ],
          "choropleth": [
           {
            "colorbar": {
             "outlinewidth": 0,
             "ticks": ""
            },
            "type": "choropleth"
           }
          ],
          "contour": [
           {
            "colorbar": {
             "outlinewidth": 0,
             "ticks": ""
            },
            "colorscale": [
             [
              0,
              "#0d0887"
             ],
             [
              0.1111111111111111,
              "#46039f"
             ],
             [
              0.2222222222222222,
              "#7201a8"
             ],
             [
              0.3333333333333333,
              "#9c179e"
             ],
             [
              0.4444444444444444,
              "#bd3786"
             ],
             [
              0.5555555555555556,
              "#d8576b"
             ],
             [
              0.6666666666666666,
              "#ed7953"
             ],
             [
              0.7777777777777778,
              "#fb9f3a"
             ],
             [
              0.8888888888888888,
              "#fdca26"
             ],
             [
              1,
              "#f0f921"
             ]
            ],
            "type": "contour"
           }
          ],
          "contourcarpet": [
           {
            "colorbar": {
             "outlinewidth": 0,
             "ticks": ""
            },
            "type": "contourcarpet"
           }
          ],
          "heatmap": [
           {
            "colorbar": {
             "outlinewidth": 0,
             "ticks": ""
            },
            "colorscale": [
             [
              0,
              "#0d0887"
             ],
             [
              0.1111111111111111,
              "#46039f"
             ],
             [
              0.2222222222222222,
              "#7201a8"
             ],
             [
              0.3333333333333333,
              "#9c179e"
             ],
             [
              0.4444444444444444,
              "#bd3786"
             ],
             [
              0.5555555555555556,
              "#d8576b"
             ],
             [
              0.6666666666666666,
              "#ed7953"
             ],
             [
              0.7777777777777778,
              "#fb9f3a"
             ],
             [
              0.8888888888888888,
              "#fdca26"
             ],
             [
              1,
              "#f0f921"
             ]
            ],
            "type": "heatmap"
           }
          ],
          "heatmapgl": [
           {
            "colorbar": {
             "outlinewidth": 0,
             "ticks": ""
            },
            "colorscale": [
             [
              0,
              "#0d0887"
             ],
             [
              0.1111111111111111,
              "#46039f"
             ],
             [
              0.2222222222222222,
              "#7201a8"
             ],
             [
              0.3333333333333333,
              "#9c179e"
             ],
             [
              0.4444444444444444,
              "#bd3786"
             ],
             [
              0.5555555555555556,
              "#d8576b"
             ],
             [
              0.6666666666666666,
              "#ed7953"
             ],
             [
              0.7777777777777778,
              "#fb9f3a"
             ],
             [
              0.8888888888888888,
              "#fdca26"
             ],
             [
              1,
              "#f0f921"
             ]
            ],
            "type": "heatmapgl"
           }
          ],
          "histogram": [
           {
            "marker": {
             "pattern": {
              "fillmode": "overlay",
              "size": 10,
              "solidity": 0.2
             }
            },
            "type": "histogram"
           }
          ],
          "histogram2d": [
           {
            "colorbar": {
             "outlinewidth": 0,
             "ticks": ""
            },
            "colorscale": [
             [
              0,
              "#0d0887"
             ],
             [
              0.1111111111111111,
              "#46039f"
             ],
             [
              0.2222222222222222,
              "#7201a8"
             ],
             [
              0.3333333333333333,
              "#9c179e"
             ],
             [
              0.4444444444444444,
              "#bd3786"
             ],
             [
              0.5555555555555556,
              "#d8576b"
             ],
             [
              0.6666666666666666,
              "#ed7953"
             ],
             [
              0.7777777777777778,
              "#fb9f3a"
             ],
             [
              0.8888888888888888,
              "#fdca26"
             ],
             [
              1,
              "#f0f921"
             ]
            ],
            "type": "histogram2d"
           }
          ],
          "histogram2dcontour": [
           {
            "colorbar": {
             "outlinewidth": 0,
             "ticks": ""
            },
            "colorscale": [
             [
              0,
              "#0d0887"
             ],
             [
              0.1111111111111111,
              "#46039f"
             ],
             [
              0.2222222222222222,
              "#7201a8"
             ],
             [
              0.3333333333333333,
              "#9c179e"
             ],
             [
              0.4444444444444444,
              "#bd3786"
             ],
             [
              0.5555555555555556,
              "#d8576b"
             ],
             [
              0.6666666666666666,
              "#ed7953"
             ],
             [
              0.7777777777777778,
              "#fb9f3a"
             ],
             [
              0.8888888888888888,
              "#fdca26"
             ],
             [
              1,
              "#f0f921"
             ]
            ],
            "type": "histogram2dcontour"
           }
          ],
          "mesh3d": [
           {
            "colorbar": {
             "outlinewidth": 0,
             "ticks": ""
            },
            "type": "mesh3d"
           }
          ],
          "parcoords": [
           {
            "line": {
             "colorbar": {
              "outlinewidth": 0,
              "ticks": ""
             }
            },
            "type": "parcoords"
           }
          ],
          "pie": [
           {
            "automargin": true,
            "type": "pie"
           }
          ],
          "scatter": [
           {
            "fillpattern": {
             "fillmode": "overlay",
             "size": 10,
             "solidity": 0.2
            },
            "type": "scatter"
           }
          ],
          "scatter3d": [
           {
            "line": {
             "colorbar": {
              "outlinewidth": 0,
              "ticks": ""
             }
            },
            "marker": {
             "colorbar": {
              "outlinewidth": 0,
              "ticks": ""
             }
            },
            "type": "scatter3d"
           }
          ],
          "scattercarpet": [
           {
            "marker": {
             "colorbar": {
              "outlinewidth": 0,
              "ticks": ""
             }
            },
            "type": "scattercarpet"
           }
          ],
          "scattergeo": [
           {
            "marker": {
             "colorbar": {
              "outlinewidth": 0,
              "ticks": ""
             }
            },
            "type": "scattergeo"
           }
          ],
          "scattergl": [
           {
            "marker": {
             "colorbar": {
              "outlinewidth": 0,
              "ticks": ""
             }
            },
            "type": "scattergl"
           }
          ],
          "scattermapbox": [
           {
            "marker": {
             "colorbar": {
              "outlinewidth": 0,
              "ticks": ""
             }
            },
            "type": "scattermapbox"
           }
          ],
          "scatterpolar": [
           {
            "marker": {
             "colorbar": {
              "outlinewidth": 0,
              "ticks": ""
             }
            },
            "type": "scatterpolar"
           }
          ],
          "scatterpolargl": [
           {
            "marker": {
             "colorbar": {
              "outlinewidth": 0,
              "ticks": ""
             }
            },
            "type": "scatterpolargl"
           }
          ],
          "scatterternary": [
           {
            "marker": {
             "colorbar": {
              "outlinewidth": 0,
              "ticks": ""
             }
            },
            "type": "scatterternary"
           }
          ],
          "surface": [
           {
            "colorbar": {
             "outlinewidth": 0,
             "ticks": ""
            },
            "colorscale": [
             [
              0,
              "#0d0887"
             ],
             [
              0.1111111111111111,
              "#46039f"
             ],
             [
              0.2222222222222222,
              "#7201a8"
             ],
             [
              0.3333333333333333,
              "#9c179e"
             ],
             [
              0.4444444444444444,
              "#bd3786"
             ],
             [
              0.5555555555555556,
              "#d8576b"
             ],
             [
              0.6666666666666666,
              "#ed7953"
             ],
             [
              0.7777777777777778,
              "#fb9f3a"
             ],
             [
              0.8888888888888888,
              "#fdca26"
             ],
             [
              1,
              "#f0f921"
             ]
            ],
            "type": "surface"
           }
          ],
          "table": [
           {
            "cells": {
             "fill": {
              "color": "#EBF0F8"
             },
             "line": {
              "color": "white"
             }
            },
            "header": {
             "fill": {
              "color": "#C8D4E3"
             },
             "line": {
              "color": "white"
             }
            },
            "type": "table"
           }
          ]
         },
         "layout": {
          "annotationdefaults": {
           "arrowcolor": "#2a3f5f",
           "arrowhead": 0,
           "arrowwidth": 1
          },
          "autotypenumbers": "strict",
          "coloraxis": {
           "colorbar": {
            "outlinewidth": 0,
            "ticks": ""
           }
          },
          "colorscale": {
           "diverging": [
            [
             0,
             "#8e0152"
            ],
            [
             0.1,
             "#c51b7d"
            ],
            [
             0.2,
             "#de77ae"
            ],
            [
             0.3,
             "#f1b6da"
            ],
            [
             0.4,
             "#fde0ef"
            ],
            [
             0.5,
             "#f7f7f7"
            ],
            [
             0.6,
             "#e6f5d0"
            ],
            [
             0.7,
             "#b8e186"
            ],
            [
             0.8,
             "#7fbc41"
            ],
            [
             0.9,
             "#4d9221"
            ],
            [
             1,
             "#276419"
            ]
           ],
           "sequential": [
            [
             0,
             "#0d0887"
            ],
            [
             0.1111111111111111,
             "#46039f"
            ],
            [
             0.2222222222222222,
             "#7201a8"
            ],
            [
             0.3333333333333333,
             "#9c179e"
            ],
            [
             0.4444444444444444,
             "#bd3786"
            ],
            [
             0.5555555555555556,
             "#d8576b"
            ],
            [
             0.6666666666666666,
             "#ed7953"
            ],
            [
             0.7777777777777778,
             "#fb9f3a"
            ],
            [
             0.8888888888888888,
             "#fdca26"
            ],
            [
             1,
             "#f0f921"
            ]
           ],
           "sequentialminus": [
            [
             0,
             "#0d0887"
            ],
            [
             0.1111111111111111,
             "#46039f"
            ],
            [
             0.2222222222222222,
             "#7201a8"
            ],
            [
             0.3333333333333333,
             "#9c179e"
            ],
            [
             0.4444444444444444,
             "#bd3786"
            ],
            [
             0.5555555555555556,
             "#d8576b"
            ],
            [
             0.6666666666666666,
             "#ed7953"
            ],
            [
             0.7777777777777778,
             "#fb9f3a"
            ],
            [
             0.8888888888888888,
             "#fdca26"
            ],
            [
             1,
             "#f0f921"
            ]
           ]
          },
          "colorway": [
           "#636efa",
           "#EF553B",
           "#00cc96",
           "#ab63fa",
           "#FFA15A",
           "#19d3f3",
           "#FF6692",
           "#B6E880",
           "#FF97FF",
           "#FECB52"
          ],
          "font": {
           "color": "#2a3f5f"
          },
          "geo": {
           "bgcolor": "white",
           "lakecolor": "white",
           "landcolor": "white",
           "showlakes": true,
           "showland": true,
           "subunitcolor": "#C8D4E3"
          },
          "hoverlabel": {
           "align": "left"
          },
          "hovermode": "closest",
          "mapbox": {
           "style": "light"
          },
          "paper_bgcolor": "white",
          "plot_bgcolor": "white",
          "polar": {
           "angularaxis": {
            "gridcolor": "#EBF0F8",
            "linecolor": "#EBF0F8",
            "ticks": ""
           },
           "bgcolor": "white",
           "radialaxis": {
            "gridcolor": "#EBF0F8",
            "linecolor": "#EBF0F8",
            "ticks": ""
           }
          },
          "scene": {
           "xaxis": {
            "backgroundcolor": "white",
            "gridcolor": "#DFE8F3",
            "gridwidth": 2,
            "linecolor": "#EBF0F8",
            "showbackground": true,
            "ticks": "",
            "zerolinecolor": "#EBF0F8"
           },
           "yaxis": {
            "backgroundcolor": "white",
            "gridcolor": "#DFE8F3",
            "gridwidth": 2,
            "linecolor": "#EBF0F8",
            "showbackground": true,
            "ticks": "",
            "zerolinecolor": "#EBF0F8"
           },
           "zaxis": {
            "backgroundcolor": "white",
            "gridcolor": "#DFE8F3",
            "gridwidth": 2,
            "linecolor": "#EBF0F8",
            "showbackground": true,
            "ticks": "",
            "zerolinecolor": "#EBF0F8"
           }
          },
          "shapedefaults": {
           "line": {
            "color": "#2a3f5f"
           }
          },
          "ternary": {
           "aaxis": {
            "gridcolor": "#DFE8F3",
            "linecolor": "#A2B1C6",
            "ticks": ""
           },
           "baxis": {
            "gridcolor": "#DFE8F3",
            "linecolor": "#A2B1C6",
            "ticks": ""
           },
           "bgcolor": "white",
           "caxis": {
            "gridcolor": "#DFE8F3",
            "linecolor": "#A2B1C6",
            "ticks": ""
           }
          },
          "title": {
           "x": 0.05
          },
          "xaxis": {
           "automargin": true,
           "gridcolor": "#EBF0F8",
           "linecolor": "#EBF0F8",
           "ticks": "",
           "title": {
            "standoff": 15
           },
           "zerolinecolor": "#EBF0F8",
           "zerolinewidth": 2
          },
          "yaxis": {
           "automargin": true,
           "gridcolor": "#EBF0F8",
           "linecolor": "#EBF0F8",
           "ticks": "",
           "title": {
            "standoff": 15
           },
           "zerolinecolor": "#EBF0F8",
           "zerolinewidth": 2
          }
         }
        },
        "title": {
         "text": "Comparaison des coefficients Ridge vs Lasso vs Linéaire"
        },
        "xaxis": {
         "title": {
          "text": "Coefficient"
         }
        },
        "yaxis": {
         "title": {
          "text": "Variables"
         }
        }
       }
      }
     },
     "metadata": {},
     "output_type": "display_data"
    }
   ],
   "source": [
    "# Prépare les traces pour chaque modèle\n",
    "fig = go.Figure()\n",
    "\n",
    "fig.add_trace(go.Bar(\n",
    "    y=coefs_df_sorted['Feature'],\n",
    "    x=coefs_df_sorted['Ridge Coefficients'],\n",
    "    name='Ridge',\n",
    "    orientation='h',\n",
    "    marker_color='steelblue'\n",
    "))\n",
    "\n",
    "fig.add_trace(go.Bar(\n",
    "    y=coefs_df_sorted['Feature'],\n",
    "    x=coefs_df_sorted['Lasso Coefficients'],\n",
    "    name='Lasso',\n",
    "    orientation='h',\n",
    "    marker_color='orange'\n",
    "))\n",
    "\n",
    "fig.add_trace(go.Bar(\n",
    "    y=coefs_df_sorted['Feature'],\n",
    "    x=coefs_df_sorted['Linear Regression Coefficients'],\n",
    "    name='Régression linéaire',\n",
    "    orientation='h',\n",
    "    marker_color='green'\n",
    "))\n",
    "\n",
    "# Layout lisible\n",
    "fig.update_layout(\n",
    "    title='Comparaison des coefficients Ridge vs Lasso vs Linéaire',\n",
    "    barmode='group',  # 'overlay' pour superposer, 'stack' pour empiler\n",
    "    xaxis_title='Coefficient',\n",
    "    yaxis_title='Variables',\n",
    "    template='plotly_white',\n",
    "    legend=dict(x=0.8, y=1.1),\n",
    "    height=800\n",
    ")\n",
    "\n",
    "fig.show()"
   ]
  },
  {
   "cell_type": "code",
   "execution_count": null,
   "metadata": {},
   "outputs": [],
   "source": [
    "#import joblib\n",
    "#joblib.dump(model_lr_pipeline, 'model_lr_pipeline.pkl')"
   ]
  },
  {
   "cell_type": "markdown",
   "metadata": {},
   "source": []
  }
 ],
 "metadata": {
  "kernelspec": {
   "display_name": ".venv",
   "language": "python",
   "name": "python3"
  },
  "language_info": {
   "codemirror_mode": {
    "name": "ipython",
    "version": 3
   },
   "file_extension": ".py",
   "mimetype": "text/x-python",
   "name": "python",
   "nbconvert_exporter": "python",
   "pygments_lexer": "ipython3",
   "version": "3.12.3"
  }
 },
 "nbformat": 4,
 "nbformat_minor": 4
}
